{
  "cells": [
    {
      "cell_type": "markdown",
      "metadata": {
        "id": "FVDS4UMyylZi"
      },
      "source": [
        "Data Import"
      ]
    },
    {
      "cell_type": "code",
      "execution_count": 1,
      "metadata": {
        "id": "SaAUlZNa88aX"
      },
      "outputs": [],
      "source": [
        "# !pip install gensim"
      ]
    },
    {
      "cell_type": "code",
      "execution_count": 2,
      "metadata": {
        "id": "Qs5K-x4hTUhX"
      },
      "outputs": [],
      "source": [
        "# !pip install vaderSentiment"
      ]
    },
    {
      "cell_type": "code",
      "execution_count": 3,
      "metadata": {},
      "outputs": [],
      "source": [
        "# %pip install wordcloud"
      ]
    },
    {
      "cell_type": "code",
      "execution_count": 4,
      "metadata": {},
      "outputs": [],
      "source": [
        "# %pip install tensorflow"
      ]
    },
    {
      "cell_type": "code",
      "execution_count": 1,
      "metadata": {
        "id": "iHtZKFkrxRyB"
      },
      "outputs": [],
      "source": [
        "import pandas as pd\n",
        "import numpy as np\n",
        "import matplotlib.pyplot as plt\n",
        "import seaborn as sns\n",
        "from wordcloud import WordCloud\n",
        "import nltk\n",
        "from nltk.tokenize import word_tokenize\n",
        "import string\n",
        "from nltk.corpus import stopwords\n",
        "import re\n",
        "from nltk.stem import SnowballStemmer\n",
        "from nltk.stem.wordnet import WordNetLemmatizer\n",
        "from sklearn.model_selection import StratifiedKFold\n",
        "from sklearn.feature_extraction.text import CountVectorizer\n",
        "from sklearn.metrics import classification_report, confusion_matrix, ConfusionMatrixDisplay, silhouette_score, roc_curve, auc, accuracy_score\n",
        "from sklearn.neighbors import KNeighborsClassifier\n",
        "from sklearn.feature_extraction.text import TfidfVectorizer\n",
        "from vaderSentiment.vaderSentiment import SentimentIntensityAnalyzer\n",
        "from sklearn.model_selection import train_test_split\n",
        "import gensim.downloader as api"
      ]
    },
    {
      "cell_type": "code",
      "execution_count": 2,
      "metadata": {
        "colab": {
          "base_uri": "https://localhost:8080/"
        },
        "id": "mM03T_ko4G9m",
        "outputId": "da11b206-214e-4240-9859-76ff85ba363d"
      },
      "outputs": [
        {
          "name": "stderr",
          "output_type": "stream",
          "text": [
            "[nltk_data] Downloading package punkt to\n",
            "[nltk_data]     C:\\Users\\diogo\\AppData\\Roaming\\nltk_data...\n",
            "[nltk_data]   Package punkt is already up-to-date!\n",
            "[nltk_data] Downloading package punkt_tab to\n",
            "[nltk_data]     C:\\Users\\diogo\\AppData\\Roaming\\nltk_data...\n",
            "[nltk_data]   Package punkt_tab is already up-to-date!\n",
            "[nltk_data] Downloading package wordnet to\n",
            "[nltk_data]     C:\\Users\\diogo\\AppData\\Roaming\\nltk_data...\n",
            "[nltk_data]   Package wordnet is already up-to-date!\n",
            "[nltk_data] Downloading package omw-1.4 to\n",
            "[nltk_data]     C:\\Users\\diogo\\AppData\\Roaming\\nltk_data...\n",
            "[nltk_data]   Package omw-1.4 is already up-to-date!\n",
            "[nltk_data] Downloading package stopwords to\n",
            "[nltk_data]     C:\\Users\\diogo\\AppData\\Roaming\\nltk_data...\n",
            "[nltk_data]   Package stopwords is already up-to-date!\n",
            "[nltk_data] Downloading package wordnet to\n",
            "[nltk_data]     C:\\Users\\diogo\\AppData\\Roaming\\nltk_data...\n",
            "[nltk_data]   Package wordnet is already up-to-date!\n"
          ]
        },
        {
          "data": {
            "text/plain": [
              "True"
            ]
          },
          "execution_count": 2,
          "metadata": {},
          "output_type": "execute_result"
        }
      ],
      "source": [
        "nltk.download('punkt')\n",
        "nltk.download('punkt_tab')\n",
        "nltk.download('wordnet')\n",
        "nltk.download('omw-1.4')\n",
        "nltk.download('stopwords')\n",
        "nltk.download('wordnet')"
      ]
    },
    {
      "cell_type": "code",
      "execution_count": 3,
      "metadata": {
        "id": "a5VfyYrtxjvC"
      },
      "outputs": [],
      "source": [
        "train_data = pd.read_csv('Project Data-20250518/train.csv')\n",
        "test_data = pd.read_csv('Project Data-20250518/test.csv')"
      ]
    },
    {
      "cell_type": "code",
      "execution_count": 4,
      "metadata": {
        "colab": {
          "base_uri": "https://localhost:8080/",
          "height": 363
        },
        "id": "WEbk3GHWxzke",
        "outputId": "daf50827-312c-4499-f7e0-a18f92dc741b"
      },
      "outputs": [
        {
          "data": {
            "text/html": [
              "<div>\n",
              "<style scoped>\n",
              "    .dataframe tbody tr th:only-of-type {\n",
              "        vertical-align: middle;\n",
              "    }\n",
              "\n",
              "    .dataframe tbody tr th {\n",
              "        vertical-align: top;\n",
              "    }\n",
              "\n",
              "    .dataframe thead th {\n",
              "        text-align: right;\n",
              "    }\n",
              "</style>\n",
              "<table border=\"1\" class=\"dataframe\">\n",
              "  <thead>\n",
              "    <tr style=\"text-align: right;\">\n",
              "      <th></th>\n",
              "      <th>text</th>\n",
              "      <th>label</th>\n",
              "    </tr>\n",
              "  </thead>\n",
              "  <tbody>\n",
              "    <tr>\n",
              "      <th>0</th>\n",
              "      <td>$BYND - JPMorgan reels in expectations on Beyo...</td>\n",
              "      <td>0</td>\n",
              "    </tr>\n",
              "    <tr>\n",
              "      <th>1</th>\n",
              "      <td>$CCL $RCL - Nomura points to bookings weakness...</td>\n",
              "      <td>0</td>\n",
              "    </tr>\n",
              "    <tr>\n",
              "      <th>2</th>\n",
              "      <td>$CX - Cemex cut at Credit Suisse, J.P. Morgan ...</td>\n",
              "      <td>0</td>\n",
              "    </tr>\n",
              "    <tr>\n",
              "      <th>3</th>\n",
              "      <td>$ESS: BTIG Research cuts to Neutral https://t....</td>\n",
              "      <td>0</td>\n",
              "    </tr>\n",
              "    <tr>\n",
              "      <th>4</th>\n",
              "      <td>$FNKO - Funko slides after Piper Jaffray PT cu...</td>\n",
              "      <td>0</td>\n",
              "    </tr>\n",
              "    <tr>\n",
              "      <th>5</th>\n",
              "      <td>$FTI - TechnipFMC downgraded at Berenberg but ...</td>\n",
              "      <td>0</td>\n",
              "    </tr>\n",
              "    <tr>\n",
              "      <th>6</th>\n",
              "      <td>$GM - GM loses a bull https://t.co/tdUfG5HbXy</td>\n",
              "      <td>0</td>\n",
              "    </tr>\n",
              "    <tr>\n",
              "      <th>7</th>\n",
              "      <td>$GM: Deutsche Bank cuts to Hold https://t.co/7...</td>\n",
              "      <td>0</td>\n",
              "    </tr>\n",
              "    <tr>\n",
              "      <th>8</th>\n",
              "      <td>$GTT: Cowen cuts to Market Perform</td>\n",
              "      <td>0</td>\n",
              "    </tr>\n",
              "    <tr>\n",
              "      <th>9</th>\n",
              "      <td>$HNHAF $HNHPD $AAPL - Trendforce cuts iPhone e...</td>\n",
              "      <td>0</td>\n",
              "    </tr>\n",
              "  </tbody>\n",
              "</table>\n",
              "</div>"
            ],
            "text/plain": [
              "                                                text  label\n",
              "0  $BYND - JPMorgan reels in expectations on Beyo...      0\n",
              "1  $CCL $RCL - Nomura points to bookings weakness...      0\n",
              "2  $CX - Cemex cut at Credit Suisse, J.P. Morgan ...      0\n",
              "3  $ESS: BTIG Research cuts to Neutral https://t....      0\n",
              "4  $FNKO - Funko slides after Piper Jaffray PT cu...      0\n",
              "5  $FTI - TechnipFMC downgraded at Berenberg but ...      0\n",
              "6      $GM - GM loses a bull https://t.co/tdUfG5HbXy      0\n",
              "7  $GM: Deutsche Bank cuts to Hold https://t.co/7...      0\n",
              "8                 $GTT: Cowen cuts to Market Perform      0\n",
              "9  $HNHAF $HNHPD $AAPL - Trendforce cuts iPhone e...      0"
            ]
          },
          "execution_count": 4,
          "metadata": {},
          "output_type": "execute_result"
        }
      ],
      "source": [
        "train_data.head(10)"
      ]
    },
    {
      "cell_type": "code",
      "execution_count": 5,
      "metadata": {
        "id": "ar-7fpcZyDZj"
      },
      "outputs": [],
      "source": [
        "train_df = pd.DataFrame(data=train_data).reset_index(drop=True)\n",
        "test_df = pd.DataFrame(data=test_data).reset_index(drop=True)"
      ]
    },
    {
      "cell_type": "code",
      "execution_count": 6,
      "metadata": {
        "colab": {
          "base_uri": "https://localhost:8080/",
          "height": 269
        },
        "id": "j5AOwy_TyR5q",
        "outputId": "048aa21e-ec84-4dfa-a0b1-8870ee29116b"
      },
      "outputs": [
        {
          "data": {
            "text/html": [
              "<div>\n",
              "<style scoped>\n",
              "    .dataframe tbody tr th:only-of-type {\n",
              "        vertical-align: middle;\n",
              "    }\n",
              "\n",
              "    .dataframe tbody tr th {\n",
              "        vertical-align: top;\n",
              "    }\n",
              "\n",
              "    .dataframe thead th {\n",
              "        text-align: right;\n",
              "    }\n",
              "</style>\n",
              "<table border=\"1\" class=\"dataframe\">\n",
              "  <thead>\n",
              "    <tr style=\"text-align: right;\">\n",
              "      <th></th>\n",
              "      <th>text</th>\n",
              "      <th>label</th>\n",
              "    </tr>\n",
              "  </thead>\n",
              "  <tbody>\n",
              "    <tr>\n",
              "      <th>0</th>\n",
              "      <td>$BYND - JPMorgan reels in expectations on Beyo...</td>\n",
              "      <td>0</td>\n",
              "    </tr>\n",
              "    <tr>\n",
              "      <th>1</th>\n",
              "      <td>$CCL $RCL - Nomura points to bookings weakness...</td>\n",
              "      <td>0</td>\n",
              "    </tr>\n",
              "    <tr>\n",
              "      <th>2</th>\n",
              "      <td>$CX - Cemex cut at Credit Suisse, J.P. Morgan ...</td>\n",
              "      <td>0</td>\n",
              "    </tr>\n",
              "    <tr>\n",
              "      <th>3</th>\n",
              "      <td>$ESS: BTIG Research cuts to Neutral https://t....</td>\n",
              "      <td>0</td>\n",
              "    </tr>\n",
              "    <tr>\n",
              "      <th>4</th>\n",
              "      <td>$FNKO - Funko slides after Piper Jaffray PT cu...</td>\n",
              "      <td>0</td>\n",
              "    </tr>\n",
              "    <tr>\n",
              "      <th>...</th>\n",
              "      <td>...</td>\n",
              "      <td>...</td>\n",
              "    </tr>\n",
              "    <tr>\n",
              "      <th>9538</th>\n",
              "      <td>The Week's Gainers and Losers on the Stoxx Eur...</td>\n",
              "      <td>2</td>\n",
              "    </tr>\n",
              "    <tr>\n",
              "      <th>9539</th>\n",
              "      <td>Tupperware Brands among consumer gainers; Unil...</td>\n",
              "      <td>2</td>\n",
              "    </tr>\n",
              "    <tr>\n",
              "      <th>9540</th>\n",
              "      <td>vTv Therapeutics leads healthcare gainers; Myo...</td>\n",
              "      <td>2</td>\n",
              "    </tr>\n",
              "    <tr>\n",
              "      <th>9541</th>\n",
              "      <td>WORK, XPO, PYX and AMKR among after hour movers</td>\n",
              "      <td>2</td>\n",
              "    </tr>\n",
              "    <tr>\n",
              "      <th>9542</th>\n",
              "      <td>YNDX, I, QD and OESX among tech movers</td>\n",
              "      <td>2</td>\n",
              "    </tr>\n",
              "  </tbody>\n",
              "</table>\n",
              "<p>9543 rows × 2 columns</p>\n",
              "</div>"
            ],
            "text/plain": [
              "                                                   text  label\n",
              "0     $BYND - JPMorgan reels in expectations on Beyo...      0\n",
              "1     $CCL $RCL - Nomura points to bookings weakness...      0\n",
              "2     $CX - Cemex cut at Credit Suisse, J.P. Morgan ...      0\n",
              "3     $ESS: BTIG Research cuts to Neutral https://t....      0\n",
              "4     $FNKO - Funko slides after Piper Jaffray PT cu...      0\n",
              "...                                                 ...    ...\n",
              "9538  The Week's Gainers and Losers on the Stoxx Eur...      2\n",
              "9539  Tupperware Brands among consumer gainers; Unil...      2\n",
              "9540  vTv Therapeutics leads healthcare gainers; Myo...      2\n",
              "9541    WORK, XPO, PYX and AMKR among after hour movers      2\n",
              "9542             YNDX, I, QD and OESX among tech movers      2\n",
              "\n",
              "[9543 rows x 2 columns]"
            ]
          },
          "execution_count": 6,
          "metadata": {},
          "output_type": "execute_result"
        }
      ],
      "source": [
        "train_df"
      ]
    },
    {
      "cell_type": "code",
      "execution_count": 7,
      "metadata": {
        "colab": {
          "base_uri": "https://localhost:8080/",
          "height": 424
        },
        "id": "eAdwvT5c6RcE",
        "outputId": "33d1d466-e783-4a75-d3f8-86351b7caeec"
      },
      "outputs": [
        {
          "data": {
            "text/html": [
              "<div>\n",
              "<style scoped>\n",
              "    .dataframe tbody tr th:only-of-type {\n",
              "        vertical-align: middle;\n",
              "    }\n",
              "\n",
              "    .dataframe tbody tr th {\n",
              "        vertical-align: top;\n",
              "    }\n",
              "\n",
              "    .dataframe thead th {\n",
              "        text-align: right;\n",
              "    }\n",
              "</style>\n",
              "<table border=\"1\" class=\"dataframe\">\n",
              "  <thead>\n",
              "    <tr style=\"text-align: right;\">\n",
              "      <th></th>\n",
              "      <th>id</th>\n",
              "      <th>text</th>\n",
              "    </tr>\n",
              "  </thead>\n",
              "  <tbody>\n",
              "    <tr>\n",
              "      <th>0</th>\n",
              "      <td>0</td>\n",
              "      <td>ETF assets to surge tenfold in 10 years to $50...</td>\n",
              "    </tr>\n",
              "    <tr>\n",
              "      <th>1</th>\n",
              "      <td>1</td>\n",
              "      <td>Here’s What Hedge Funds Think Evolution Petrol...</td>\n",
              "    </tr>\n",
              "    <tr>\n",
              "      <th>2</th>\n",
              "      <td>2</td>\n",
              "      <td>$PVH - Phillips-Van Heusen Q3 2020 Earnings Pr...</td>\n",
              "    </tr>\n",
              "    <tr>\n",
              "      <th>3</th>\n",
              "      <td>3</td>\n",
              "      <td>China is in the process of waiving retaliatory...</td>\n",
              "    </tr>\n",
              "    <tr>\n",
              "      <th>4</th>\n",
              "      <td>4</td>\n",
              "      <td>Highlight: “When growth is scarce, investors s...</td>\n",
              "    </tr>\n",
              "    <tr>\n",
              "      <th>...</th>\n",
              "      <td>...</td>\n",
              "      <td>...</td>\n",
              "    </tr>\n",
              "    <tr>\n",
              "      <th>2383</th>\n",
              "      <td>2383</td>\n",
              "      <td>$IVC - Invacare Corporation (IVC) CEO Matthew ...</td>\n",
              "    </tr>\n",
              "    <tr>\n",
              "      <th>2384</th>\n",
              "      <td>2384</td>\n",
              "      <td>Domtar EPS misses by $0.05,  revenue in-line</td>\n",
              "    </tr>\n",
              "    <tr>\n",
              "      <th>2385</th>\n",
              "      <td>2385</td>\n",
              "      <td>India Plans Incentives to Bring In Foreign Man...</td>\n",
              "    </tr>\n",
              "    <tr>\n",
              "      <th>2386</th>\n",
              "      <td>2386</td>\n",
              "      <td>$NVCR shows institutional accumulation with bl...</td>\n",
              "    </tr>\n",
              "    <tr>\n",
              "      <th>2387</th>\n",
              "      <td>2387</td>\n",
              "      <td>accesso Technology : Form 8.3 - Accesso Techno...</td>\n",
              "    </tr>\n",
              "  </tbody>\n",
              "</table>\n",
              "<p>2388 rows × 2 columns</p>\n",
              "</div>"
            ],
            "text/plain": [
              "        id                                               text\n",
              "0        0  ETF assets to surge tenfold in 10 years to $50...\n",
              "1        1  Here’s What Hedge Funds Think Evolution Petrol...\n",
              "2        2  $PVH - Phillips-Van Heusen Q3 2020 Earnings Pr...\n",
              "3        3  China is in the process of waiving retaliatory...\n",
              "4        4  Highlight: “When growth is scarce, investors s...\n",
              "...    ...                                                ...\n",
              "2383  2383  $IVC - Invacare Corporation (IVC) CEO Matthew ...\n",
              "2384  2384       Domtar EPS misses by $0.05,  revenue in-line\n",
              "2385  2385  India Plans Incentives to Bring In Foreign Man...\n",
              "2386  2386  $NVCR shows institutional accumulation with bl...\n",
              "2387  2387  accesso Technology : Form 8.3 - Accesso Techno...\n",
              "\n",
              "[2388 rows x 2 columns]"
            ]
          },
          "execution_count": 7,
          "metadata": {},
          "output_type": "execute_result"
        }
      ],
      "source": [
        "test_df"
      ]
    },
    {
      "cell_type": "markdown",
      "metadata": {
        "id": "QtE1GID9yfF_"
      },
      "source": [
        "### 1. Exploratory Analysis"
      ]
    },
    {
      "cell_type": "code",
      "execution_count": 8,
      "metadata": {
        "colab": {
          "base_uri": "https://localhost:8080/"
        },
        "id": "xRDSgxvv0bL2",
        "outputId": "05ce38f6-002a-480d-b9d3-fdf86162d6d6"
      },
      "outputs": [
        {
          "data": {
            "text/plain": [
              "(9543, 2)"
            ]
          },
          "execution_count": 8,
          "metadata": {},
          "output_type": "execute_result"
        }
      ],
      "source": [
        "train_df.shape"
      ]
    },
    {
      "cell_type": "code",
      "execution_count": 9,
      "metadata": {
        "colab": {
          "base_uri": "https://localhost:8080/"
        },
        "id": "FcJ8LxClyewN",
        "outputId": "66f7db7f-1930-400a-a3c9-0a2287a365bc"
      },
      "outputs": [
        {
          "data": {
            "text/plain": [
              "array([0, 1, 2], dtype=int64)"
            ]
          },
          "execution_count": 9,
          "metadata": {},
          "output_type": "execute_result"
        }
      ],
      "source": [
        "(train_df['label']).unique()"
      ]
    },
    {
      "cell_type": "code",
      "execution_count": 10,
      "metadata": {
        "colab": {
          "base_uri": "https://localhost:8080/",
          "height": 210
        },
        "id": "Z0k_0gOBy9yp",
        "outputId": "6c0f3b41-3cc1-487b-f7a7-193b190ad56b"
      },
      "outputs": [],
      "source": [
        "label_count = train_df[\"label\"].value_counts()\n",
        "\n",
        "label_map = {0: \"Bearish\", 1: \"Bullish\", 2: \"Neutral\"}\n",
        "label_distribution = {label_map[i]: int(count) for i, count in label_count.items()}"
      ]
    },
    {
      "cell_type": "code",
      "execution_count": 11,
      "metadata": {},
      "outputs": [
        {
          "data": {
            "image/png": "[encoded data removed]",
            "text/plain": [
              "<Figure size 600x400 with 1 Axes>"
            ]
          },
          "metadata": {},
          "output_type": "display_data"
        }
      ],
      "source": [
        "labels = list(label_distribution.keys())\n",
        "values = list(label_distribution.values())\n",
        "\n",
        "# Plot the label distribution\n",
        "plt.figure(figsize=(6, 4))\n",
        "plt.bar(labels, values, color=['red', 'green', 'blue'])\n",
        "plt.title(\"Label Distribution in Training Data\")\n",
        "plt.ylabel(\"Number of Tweets\")\n",
        "plt.xlabel(\"Sentiment Class\")\n",
        "plt.tight_layout()\n",
        "plt.show()"
      ]
    },
    {
      "cell_type": "code",
      "execution_count": 12,
      "metadata": {},
      "outputs": [
        {
          "name": "stdout",
          "output_type": "stream",
          "text": [
            "{0: 'Bearish', 1: 'Bullish', 2: 'Neutral'}\n",
            "{'Neutral': 6178, 'Bullish': 1923, 'Bearish': 1442}\n"
          ]
        }
      ],
      "source": [
        "print(label_map)\n",
        "print(label_distribution)"
      ]
    },
    {
      "cell_type": "markdown",
      "metadata": {},
      "source": [
        "<p>Here we can notice how imbalanced the dataset is, which did affect the perfomance of the model, but we'll show throughout the notebook how we circumvented this issue</p>"
      ]
    },
    {
      "cell_type": "code",
      "execution_count": 13,
      "metadata": {
        "colab": {
          "base_uri": "https://localhost:8080/"
        },
        "id": "F_lMVC07zYc6",
        "outputId": "f4550d30-b28b-4c99-bc0b-0a1c422afe2b"
      },
      "outputs": [
        {
          "data": {
            "text/plain": [
              "1.496279995808446"
            ]
          },
          "execution_count": 13,
          "metadata": {},
          "output_type": "execute_result"
        }
      ],
      "source": [
        "(train_df['label']).mean()"
      ]
    },
    {
      "cell_type": "code",
      "execution_count": 14,
      "metadata": {
        "colab": {
          "base_uri": "https://localhost:8080/"
        },
        "id": "Yqi3ffAyzkn1",
        "outputId": "a0f88b8f-d1f9-497d-b59d-a3af3c67e16a"
      },
      "outputs": [
        {
          "data": {
            "text/plain": [
              "2.0"
            ]
          },
          "execution_count": 14,
          "metadata": {},
          "output_type": "execute_result"
        }
      ],
      "source": [
        "(train_df['label']).median()"
      ]
    },
    {
      "cell_type": "code",
      "execution_count": 15,
      "metadata": {
        "colab": {
          "base_uri": "https://localhost:8080/"
        },
        "id": "xPqDyccIzhpo",
        "outputId": "ffaaeba0-9554-4d13-e776-d999045a7da0"
      },
      "outputs": [
        {
          "data": {
            "text/plain": [
              "0.7431386657201221"
            ]
          },
          "execution_count": 15,
          "metadata": {},
          "output_type": "execute_result"
        }
      ],
      "source": [
        "(train_df['label']).std()"
      ]
    },
    {
      "cell_type": "code",
      "execution_count": 16,
      "metadata": {
        "colab": {
          "base_uri": "https://localhost:8080/",
          "height": 335
        },
        "id": "5-8P96r6zpjx",
        "outputId": "2a467ba1-08ed-4098-f238-572b86b20692"
      },
      "outputs": [
        {
          "data": {
            "text/plain": [
              "count    9543.000000\n",
              "mean        1.496280\n",
              "std         0.743139\n",
              "min         0.000000\n",
              "25%         1.000000\n",
              "50%         2.000000\n",
              "75%         2.000000\n",
              "max         2.000000\n",
              "Name: label, dtype: float64"
            ]
          },
          "execution_count": 16,
          "metadata": {},
          "output_type": "execute_result"
        }
      ],
      "source": [
        "(train_df['label']).describe()"
      ]
    },
    {
      "cell_type": "code",
      "execution_count": 17,
      "metadata": {
        "colab": {
          "base_uri": "https://localhost:8080/"
        },
        "id": "71YQSOjX0NMd",
        "outputId": "9dd4a5d2-42ef-455b-d5fd-db44862376f9"
      },
      "outputs": [
        {
          "name": "stdout",
          "output_type": "stream",
          "text": [
            "<class 'pandas.core.frame.DataFrame'>\n",
            "RangeIndex: 9543 entries, 0 to 9542\n",
            "Data columns (total 2 columns):\n",
            " #   Column  Non-Null Count  Dtype \n",
            "---  ------  --------------  ----- \n",
            " 0   text    9543 non-null   object\n",
            " 1   label   9543 non-null   int64 \n",
            "dtypes: int64(1), object(1)\n",
            "memory usage: 149.2+ KB\n"
          ]
        }
      ],
      "source": [
        "train_df.info()"
      ]
    },
    {
      "cell_type": "markdown",
      "metadata": {
        "id": "u2f63DzI0vgF"
      },
      "source": [
        "Text (Independent Features)"
      ]
    },
    {
      "cell_type": "code",
      "execution_count": 18,
      "metadata": {
        "colab": {
          "base_uri": "https://localhost:8080/",
          "height": 35
        },
        "id": "exwGHbDU0vMe",
        "outputId": "053b64e4-a5ab-4d4a-ad11-98cef41d3fce"
      },
      "outputs": [
        {
          "data": {
            "text/plain": [
              "'Royal Caribbean downgraded to sell from buy at CFRA'"
            ]
          },
          "execution_count": 18,
          "metadata": {},
          "output_type": "execute_result"
        }
      ],
      "source": [
        "#Check a random text\n",
        "train_df['text'][105]"
      ]
    },
    {
      "cell_type": "code",
      "execution_count": 19,
      "metadata": {
        "colab": {
          "base_uri": "https://localhost:8080/"
        },
        "id": "BkYH_fyp077h",
        "outputId": "36d98b81-84e5-4723-cc63-ae87b1e77ba7"
      },
      "outputs": [
        {
          "data": {
            "text/plain": [
              "0"
            ]
          },
          "execution_count": 19,
          "metadata": {},
          "output_type": "execute_result"
        }
      ],
      "source": [
        "train_df['text'].isnull().sum()"
      ]
    },
    {
      "cell_type": "markdown",
      "metadata": {
        "id": "rI8zF0eA1J0P"
      },
      "source": [
        "Word Count"
      ]
    },
    {
      "cell_type": "code",
      "execution_count": 20,
      "metadata": {
        "colab": {
          "base_uri": "https://localhost:8080/",
          "height": 206
        },
        "id": "WSY79Dh51RTH",
        "outputId": "3cfd30ee-c7e5-4c4c-d365-0b1e300ad83d"
      },
      "outputs": [
        {
          "data": {
            "text/html": [
              "<div>\n",
              "<style scoped>\n",
              "    .dataframe tbody tr th:only-of-type {\n",
              "        vertical-align: middle;\n",
              "    }\n",
              "\n",
              "    .dataframe tbody tr th {\n",
              "        vertical-align: top;\n",
              "    }\n",
              "\n",
              "    .dataframe thead th {\n",
              "        text-align: right;\n",
              "    }\n",
              "</style>\n",
              "<table border=\"1\" class=\"dataframe\">\n",
              "  <thead>\n",
              "    <tr style=\"text-align: right;\">\n",
              "      <th></th>\n",
              "      <th>text</th>\n",
              "      <th>word_count</th>\n",
              "    </tr>\n",
              "  </thead>\n",
              "  <tbody>\n",
              "    <tr>\n",
              "      <th>0</th>\n",
              "      <td>$BYND - JPMorgan reels in expectations on Beyo...</td>\n",
              "      <td>10</td>\n",
              "    </tr>\n",
              "    <tr>\n",
              "      <th>1</th>\n",
              "      <td>$CCL $RCL - Nomura points to bookings weakness...</td>\n",
              "      <td>14</td>\n",
              "    </tr>\n",
              "    <tr>\n",
              "      <th>2</th>\n",
              "      <td>$CX - Cemex cut at Credit Suisse, J.P. Morgan ...</td>\n",
              "      <td>14</td>\n",
              "    </tr>\n",
              "    <tr>\n",
              "      <th>3</th>\n",
              "      <td>$ESS: BTIG Research cuts to Neutral https://t....</td>\n",
              "      <td>7</td>\n",
              "    </tr>\n",
              "    <tr>\n",
              "      <th>4</th>\n",
              "      <td>$FNKO - Funko slides after Piper Jaffray PT cu...</td>\n",
              "      <td>10</td>\n",
              "    </tr>\n",
              "  </tbody>\n",
              "</table>\n",
              "</div>"
            ],
            "text/plain": [
              "                                                text  word_count\n",
              "0  $BYND - JPMorgan reels in expectations on Beyo...          10\n",
              "1  $CCL $RCL - Nomura points to bookings weakness...          14\n",
              "2  $CX - Cemex cut at Credit Suisse, J.P. Morgan ...          14\n",
              "3  $ESS: BTIG Research cuts to Neutral https://t....           7\n",
              "4  $FNKO - Funko slides after Piper Jaffray PT cu...          10"
            ]
          },
          "execution_count": 20,
          "metadata": {},
          "output_type": "execute_result"
        }
      ],
      "source": [
        "train_df['word_count'] = train_df['text'].apply(lambda x: len(str(x).split(\" \")))\n",
        "train_df[['text','word_count']].head()"
      ]
    },
    {
      "cell_type": "markdown",
      "metadata": {
        "id": "oeJuKFNe13b2"
      },
      "source": [
        "Word count - Descriptive statistics"
      ]
    },
    {
      "cell_type": "code",
      "execution_count": 21,
      "metadata": {
        "colab": {
          "base_uri": "https://localhost:8080/",
          "height": 335
        },
        "id": "ppz-WUG-12-M",
        "outputId": "09361cfb-2a1e-4e25-ec4f-8b48c08df98f"
      },
      "outputs": [
        {
          "data": {
            "text/plain": [
              "count    9543.000000\n",
              "mean       12.168081\n",
              "std         4.651245\n",
              "min         1.000000\n",
              "25%         9.000000\n",
              "50%        11.000000\n",
              "75%        15.000000\n",
              "max        31.000000\n",
              "Name: word_count, dtype: float64"
            ]
          },
          "execution_count": 21,
          "metadata": {},
          "output_type": "execute_result"
        }
      ],
      "source": [
        "train_df.word_count.describe()"
      ]
    },
    {
      "cell_type": "code",
      "execution_count": 22,
      "metadata": {
        "colab": {
          "base_uri": "https://localhost:8080/",
          "height": 472
        },
        "id": "auspQOzA2ObS",
        "outputId": "153962ba-a9ff-4d94-85f4-035a9e9b74d6"
      },
      "outputs": [
        {
          "data": {
            "image/png": "[encoded data removed]",
            "text/plain": [
              "<Figure size 640x480 with 1 Axes>"
            ]
          },
          "metadata": {},
          "output_type": "display_data"
        }
      ],
      "source": [
        "#Plot distribution of text length\n",
        "sns.histplot(train_df['word_count'], bins=6)\n",
        "plt.title(\"Distribution of Text Lengths (raw text)\")\n",
        "plt.xlabel(\"Length of text\")\n",
        "plt.ylabel(\"Frequency\")\n",
        "plt.show()"
      ]
    },
    {
      "cell_type": "code",
      "execution_count": 23,
      "metadata": {
        "colab": {
          "base_uri": "https://localhost:8080/",
          "height": 433
        },
        "id": "rm3tnQFxsQCa",
        "outputId": "7d92e77d-d58a-419a-f6dd-381b101b3c95"
      },
      "outputs": [
        {
          "data": {
            "image/png": "[encoded data removed]",
            "text/plain": [
              "<Figure size 640x480 with 1 Axes>"
            ]
          },
          "metadata": {},
          "output_type": "display_data"
        }
      ],
      "source": [
        "sns.boxplot(train_df['word_count'])\n",
        "plt.title(\"Boxplot of Text Lengths (raw text)\")\n",
        "plt.show()"
      ]
    },
    {
      "cell_type": "code",
      "execution_count": 24,
      "metadata": {
        "colab": {
          "base_uri": "https://localhost:8080/",
          "height": 398
        },
        "id": "eNf2vODX2xKh",
        "outputId": "988ef7b1-496e-41f0-f184-91c13ccfa667"
      },
      "outputs": [
        {
          "data": {
            "text/plain": [
              "to     2332\n",
              "the    1820\n",
              "of     1464\n",
              "-      1390\n",
              "in     1361\n",
              "on     1136\n",
              "for    1032\n",
              "a       970\n",
              "and     898\n",
              "The     663\n",
              "Name: count, dtype: int64"
            ]
          },
          "execution_count": 24,
          "metadata": {},
          "output_type": "execute_result"
        }
      ],
      "source": [
        "all_words = ' '.join(train_df['text']).split()\n",
        "frequency = pd.Series(all_words).value_counts()\n",
        "frequency.sort_values(ascending=False)[:10]"
      ]
    },
    {
      "cell_type": "code",
      "execution_count": 25,
      "metadata": {
        "colab": {
          "base_uri": "https://localhost:8080/",
          "height": 467
        },
        "id": "uLAPEnsp3OSI",
        "outputId": "ee5ca6bc-43c2-4433-95b5-88d9dedd5873"
      },
      "outputs": [
        {
          "data": {
            "image/png": "[encoded data removed]",
            "text/plain": [
              "<Figure size 640x480 with 1 Axes>"
            ]
          },
          "metadata": {},
          "output_type": "display_data"
        }
      ],
      "source": [
        "x_labels = frequency.index[:10]\n",
        "values = frequency[:10]\n",
        "plt.bar(x_labels, values, align='center', alpha=0.5)\n",
        "plt.xticks(x_labels)\n",
        "plt.ylabel('Frequencies')\n",
        "plt.title('Words')\n",
        "plt.xticks(rotation=45)\n",
        "plt.show()"
      ]
    },
    {
      "cell_type": "code",
      "execution_count": 26,
      "metadata": {
        "colab": {
          "base_uri": "https://localhost:8080/",
          "height": 307
        },
        "id": "6ZLC8VS83f5d",
        "outputId": "716d1ba4-1c0d-4d34-b21a-1c16650b829f"
      },
      "outputs": [
        {
          "data": {
            "image/png": "[encoded data removed]",
            "text/plain": [
              "<Figure size 640x480 with 1 Axes>"
            ]
          },
          "metadata": {},
          "output_type": "display_data"
        }
      ],
      "source": [
        "raw_text = ' '.join(train_df['text'].fillna('')).lower()\n",
        "raw_wordcloud = WordCloud(width=900, height=450, background_color='white').generate(raw_text)\n",
        "plt.imshow(raw_wordcloud, interpolation='bilinear')\n",
        "plt.axis('off')\n",
        "plt.title('Word Cloud (Raw Text)')\n",
        "plt.show()"
      ]
    },
    {
      "cell_type": "code",
      "execution_count": 27,
      "metadata": {
        "colab": {
          "base_uri": "https://localhost:8080/",
          "height": 424
        },
        "id": "WRyu8lQDj8Vv",
        "outputId": "32141fc2-cd80-4896-de31-5a5b4192fa1b"
      },
      "outputs": [
        {
          "data": {
            "text/html": [
              "<div>\n",
              "<style scoped>\n",
              "    .dataframe tbody tr th:only-of-type {\n",
              "        vertical-align: middle;\n",
              "    }\n",
              "\n",
              "    .dataframe tbody tr th {\n",
              "        vertical-align: top;\n",
              "    }\n",
              "\n",
              "    .dataframe thead th {\n",
              "        text-align: right;\n",
              "    }\n",
              "</style>\n",
              "<table border=\"1\" class=\"dataframe\">\n",
              "  <thead>\n",
              "    <tr style=\"text-align: right;\">\n",
              "      <th></th>\n",
              "      <th>text</th>\n",
              "      <th>label</th>\n",
              "      <th>word_count</th>\n",
              "    </tr>\n",
              "  </thead>\n",
              "  <tbody>\n",
              "    <tr>\n",
              "      <th>0</th>\n",
              "      <td>$BYND - JPMorgan reels in expectations on Beyo...</td>\n",
              "      <td>0</td>\n",
              "      <td>10</td>\n",
              "    </tr>\n",
              "    <tr>\n",
              "      <th>1</th>\n",
              "      <td>$CCL $RCL - Nomura points to bookings weakness...</td>\n",
              "      <td>0</td>\n",
              "      <td>14</td>\n",
              "    </tr>\n",
              "    <tr>\n",
              "      <th>2</th>\n",
              "      <td>$CX - Cemex cut at Credit Suisse, J.P. Morgan ...</td>\n",
              "      <td>0</td>\n",
              "      <td>14</td>\n",
              "    </tr>\n",
              "    <tr>\n",
              "      <th>3</th>\n",
              "      <td>$ESS: BTIG Research cuts to Neutral https://t....</td>\n",
              "      <td>0</td>\n",
              "      <td>7</td>\n",
              "    </tr>\n",
              "    <tr>\n",
              "      <th>4</th>\n",
              "      <td>$FNKO - Funko slides after Piper Jaffray PT cu...</td>\n",
              "      <td>0</td>\n",
              "      <td>10</td>\n",
              "    </tr>\n",
              "    <tr>\n",
              "      <th>...</th>\n",
              "      <td>...</td>\n",
              "      <td>...</td>\n",
              "      <td>...</td>\n",
              "    </tr>\n",
              "    <tr>\n",
              "      <th>9538</th>\n",
              "      <td>The Week's Gainers and Losers on the Stoxx Eur...</td>\n",
              "      <td>2</td>\n",
              "      <td>16</td>\n",
              "    </tr>\n",
              "    <tr>\n",
              "      <th>9539</th>\n",
              "      <td>Tupperware Brands among consumer gainers; Unil...</td>\n",
              "      <td>2</td>\n",
              "      <td>9</td>\n",
              "    </tr>\n",
              "    <tr>\n",
              "      <th>9540</th>\n",
              "      <td>vTv Therapeutics leads healthcare gainers; Myo...</td>\n",
              "      <td>2</td>\n",
              "      <td>11</td>\n",
              "    </tr>\n",
              "    <tr>\n",
              "      <th>9541</th>\n",
              "      <td>WORK, XPO, PYX and AMKR among after hour movers</td>\n",
              "      <td>2</td>\n",
              "      <td>9</td>\n",
              "    </tr>\n",
              "    <tr>\n",
              "      <th>9542</th>\n",
              "      <td>YNDX, I, QD and OESX among tech movers</td>\n",
              "      <td>2</td>\n",
              "      <td>8</td>\n",
              "    </tr>\n",
              "  </tbody>\n",
              "</table>\n",
              "<p>9543 rows × 3 columns</p>\n",
              "</div>"
            ],
            "text/plain": [
              "                                                   text  label  word_count\n",
              "0     $BYND - JPMorgan reels in expectations on Beyo...      0          10\n",
              "1     $CCL $RCL - Nomura points to bookings weakness...      0          14\n",
              "2     $CX - Cemex cut at Credit Suisse, J.P. Morgan ...      0          14\n",
              "3     $ESS: BTIG Research cuts to Neutral https://t....      0           7\n",
              "4     $FNKO - Funko slides after Piper Jaffray PT cu...      0          10\n",
              "...                                                 ...    ...         ...\n",
              "9538  The Week's Gainers and Losers on the Stoxx Eur...      2          16\n",
              "9539  Tupperware Brands among consumer gainers; Unil...      2           9\n",
              "9540  vTv Therapeutics leads healthcare gainers; Myo...      2          11\n",
              "9541    WORK, XPO, PYX and AMKR among after hour movers      2           9\n",
              "9542             YNDX, I, QD and OESX among tech movers      2           8\n",
              "\n",
              "[9543 rows x 3 columns]"
            ]
          },
          "execution_count": 27,
          "metadata": {},
          "output_type": "execute_result"
        }
      ],
      "source": [
        "train_df"
      ]
    },
    {
      "cell_type": "code",
      "execution_count": 28,
      "metadata": {
        "colab": {
          "base_uri": "https://localhost:8080/",
          "height": 424
        },
        "id": "4cccUzPzfLQo",
        "outputId": "5e3d4693-9a0b-44fb-bb69-b7087863636d"
      },
      "outputs": [
        {
          "data": {
            "text/html": [
              "<div>\n",
              "<style scoped>\n",
              "    .dataframe tbody tr th:only-of-type {\n",
              "        vertical-align: middle;\n",
              "    }\n",
              "\n",
              "    .dataframe tbody tr th {\n",
              "        vertical-align: top;\n",
              "    }\n",
              "\n",
              "    .dataframe thead th {\n",
              "        text-align: right;\n",
              "    }\n",
              "</style>\n",
              "<table border=\"1\" class=\"dataframe\">\n",
              "  <thead>\n",
              "    <tr style=\"text-align: right;\">\n",
              "      <th></th>\n",
              "      <th>id</th>\n",
              "      <th>text</th>\n",
              "    </tr>\n",
              "  </thead>\n",
              "  <tbody>\n",
              "    <tr>\n",
              "      <th>0</th>\n",
              "      <td>0</td>\n",
              "      <td>ETF assets to surge tenfold in 10 years to $50...</td>\n",
              "    </tr>\n",
              "    <tr>\n",
              "      <th>1</th>\n",
              "      <td>1</td>\n",
              "      <td>Here’s What Hedge Funds Think Evolution Petrol...</td>\n",
              "    </tr>\n",
              "    <tr>\n",
              "      <th>2</th>\n",
              "      <td>2</td>\n",
              "      <td>$PVH - Phillips-Van Heusen Q3 2020 Earnings Pr...</td>\n",
              "    </tr>\n",
              "    <tr>\n",
              "      <th>3</th>\n",
              "      <td>3</td>\n",
              "      <td>China is in the process of waiving retaliatory...</td>\n",
              "    </tr>\n",
              "    <tr>\n",
              "      <th>4</th>\n",
              "      <td>4</td>\n",
              "      <td>Highlight: “When growth is scarce, investors s...</td>\n",
              "    </tr>\n",
              "    <tr>\n",
              "      <th>...</th>\n",
              "      <td>...</td>\n",
              "      <td>...</td>\n",
              "    </tr>\n",
              "    <tr>\n",
              "      <th>2383</th>\n",
              "      <td>2383</td>\n",
              "      <td>$IVC - Invacare Corporation (IVC) CEO Matthew ...</td>\n",
              "    </tr>\n",
              "    <tr>\n",
              "      <th>2384</th>\n",
              "      <td>2384</td>\n",
              "      <td>Domtar EPS misses by $0.05,  revenue in-line</td>\n",
              "    </tr>\n",
              "    <tr>\n",
              "      <th>2385</th>\n",
              "      <td>2385</td>\n",
              "      <td>India Plans Incentives to Bring In Foreign Man...</td>\n",
              "    </tr>\n",
              "    <tr>\n",
              "      <th>2386</th>\n",
              "      <td>2386</td>\n",
              "      <td>$NVCR shows institutional accumulation with bl...</td>\n",
              "    </tr>\n",
              "    <tr>\n",
              "      <th>2387</th>\n",
              "      <td>2387</td>\n",
              "      <td>accesso Technology : Form 8.3 - Accesso Techno...</td>\n",
              "    </tr>\n",
              "  </tbody>\n",
              "</table>\n",
              "<p>2388 rows × 2 columns</p>\n",
              "</div>"
            ],
            "text/plain": [
              "        id                                               text\n",
              "0        0  ETF assets to surge tenfold in 10 years to $50...\n",
              "1        1  Here’s What Hedge Funds Think Evolution Petrol...\n",
              "2        2  $PVH - Phillips-Van Heusen Q3 2020 Earnings Pr...\n",
              "3        3  China is in the process of waiving retaliatory...\n",
              "4        4  Highlight: “When growth is scarce, investors s...\n",
              "...    ...                                                ...\n",
              "2383  2383  $IVC - Invacare Corporation (IVC) CEO Matthew ...\n",
              "2384  2384       Domtar EPS misses by $0.05,  revenue in-line\n",
              "2385  2385  India Plans Incentives to Bring In Foreign Man...\n",
              "2386  2386  $NVCR shows institutional accumulation with bl...\n",
              "2387  2387  accesso Technology : Form 8.3 - Accesso Techno...\n",
              "\n",
              "[2388 rows x 2 columns]"
            ]
          },
          "execution_count": 28,
          "metadata": {},
          "output_type": "execute_result"
        }
      ],
      "source": [
        "test_df"
      ]
    },
    {
      "cell_type": "code",
      "execution_count": 29,
      "metadata": {},
      "outputs": [],
      "source": [
        "train_df[\"stock\"] = train_df[\"text\"].apply(lambda x: re.findall(r\"\\$\\w+\", x))"
      ]
    },
    {
      "cell_type": "code",
      "execution_count": 30,
      "metadata": {},
      "outputs": [
        {
          "name": "stdout",
          "output_type": "stream",
          "text": [
            "label\n",
            "2    6178\n",
            "1    1923\n",
            "0    1442\n",
            "Name: count, dtype: int64\n",
            "int64\n"
          ]
        }
      ],
      "source": [
        "print(train_df['label'].value_counts())\n",
        "print(train_df['label'].dtype)"
      ]
    },
    {
      "cell_type": "markdown",
      "metadata": {},
      "source": [
        "#### Correlation between Stock companies and the sentiment"
      ]
    },
    {
      "cell_type": "code",
      "execution_count": 31,
      "metadata": {},
      "outputs": [
        {
          "data": {
            "text/html": [
              "<div>\n",
              "<style scoped>\n",
              "    .dataframe tbody tr th:only-of-type {\n",
              "        vertical-align: middle;\n",
              "    }\n",
              "\n",
              "    .dataframe tbody tr th {\n",
              "        vertical-align: top;\n",
              "    }\n",
              "\n",
              "    .dataframe thead th {\n",
              "        text-align: right;\n",
              "    }\n",
              "</style>\n",
              "<table border=\"1\" class=\"dataframe\">\n",
              "  <thead>\n",
              "    <tr style=\"text-align: right;\">\n",
              "      <th>label</th>\n",
              "      <th>Bearish</th>\n",
              "      <th>Bullish</th>\n",
              "      <th>Neutral</th>\n",
              "      <th>Total</th>\n",
              "    </tr>\n",
              "    <tr>\n",
              "      <th>stock</th>\n",
              "      <th></th>\n",
              "      <th></th>\n",
              "      <th></th>\n",
              "      <th></th>\n",
              "    </tr>\n",
              "  </thead>\n",
              "  <tbody>\n",
              "    <tr>\n",
              "      <th>$0</th>\n",
              "      <td>37</td>\n",
              "      <td>79</td>\n",
              "      <td>179</td>\n",
              "      <td>295</td>\n",
              "    </tr>\n",
              "    <tr>\n",
              "      <th>$1</th>\n",
              "      <td>29</td>\n",
              "      <td>54</td>\n",
              "      <td>64</td>\n",
              "      <td>147</td>\n",
              "    </tr>\n",
              "    <tr>\n",
              "      <th>$4</th>\n",
              "      <td>6</td>\n",
              "      <td>8</td>\n",
              "      <td>28</td>\n",
              "      <td>42</td>\n",
              "    </tr>\n",
              "    <tr>\n",
              "      <th>$3</th>\n",
              "      <td>9</td>\n",
              "      <td>12</td>\n",
              "      <td>19</td>\n",
              "      <td>40</td>\n",
              "    </tr>\n",
              "    <tr>\n",
              "      <th>$2</th>\n",
              "      <td>0</td>\n",
              "      <td>16</td>\n",
              "      <td>21</td>\n",
              "      <td>37</td>\n",
              "    </tr>\n",
              "    <tr>\n",
              "      <th>$5</th>\n",
              "      <td>10</td>\n",
              "      <td>2</td>\n",
              "      <td>18</td>\n",
              "      <td>30</td>\n",
              "    </tr>\n",
              "    <tr>\n",
              "      <th>$SPY</th>\n",
              "      <td>2</td>\n",
              "      <td>8</td>\n",
              "      <td>16</td>\n",
              "      <td>26</td>\n",
              "    </tr>\n",
              "    <tr>\n",
              "      <th>$10</th>\n",
              "      <td>4</td>\n",
              "      <td>5</td>\n",
              "      <td>15</td>\n",
              "      <td>24</td>\n",
              "    </tr>\n",
              "    <tr>\n",
              "      <th>$COMDX</th>\n",
              "      <td>0</td>\n",
              "      <td>2</td>\n",
              "      <td>21</td>\n",
              "      <td>23</td>\n",
              "    </tr>\n",
              "    <tr>\n",
              "      <th>$50</th>\n",
              "      <td>6</td>\n",
              "      <td>8</td>\n",
              "      <td>6</td>\n",
              "      <td>20</td>\n",
              "    </tr>\n",
              "    <tr>\n",
              "      <th>$TSLA</th>\n",
              "      <td>2</td>\n",
              "      <td>9</td>\n",
              "      <td>9</td>\n",
              "      <td>20</td>\n",
              "    </tr>\n",
              "    <tr>\n",
              "      <th>$SCANX</th>\n",
              "      <td>3</td>\n",
              "      <td>7</td>\n",
              "      <td>6</td>\n",
              "      <td>16</td>\n",
              "    </tr>\n",
              "    <tr>\n",
              "      <th>$12</th>\n",
              "      <td>5</td>\n",
              "      <td>3</td>\n",
              "      <td>8</td>\n",
              "      <td>16</td>\n",
              "    </tr>\n",
              "    <tr>\n",
              "      <th>$7</th>\n",
              "      <td>3</td>\n",
              "      <td>6</td>\n",
              "      <td>5</td>\n",
              "      <td>14</td>\n",
              "    </tr>\n",
              "    <tr>\n",
              "      <th>$16</th>\n",
              "      <td>2</td>\n",
              "      <td>2</td>\n",
              "      <td>10</td>\n",
              "      <td>14</td>\n",
              "    </tr>\n",
              "    <tr>\n",
              "      <th>$26</th>\n",
              "      <td>0</td>\n",
              "      <td>6</td>\n",
              "      <td>7</td>\n",
              "      <td>13</td>\n",
              "    </tr>\n",
              "    <tr>\n",
              "      <th>$SUMRX</th>\n",
              "      <td>1</td>\n",
              "      <td>6</td>\n",
              "      <td>6</td>\n",
              "      <td>13</td>\n",
              "    </tr>\n",
              "    <tr>\n",
              "      <th>$6</th>\n",
              "      <td>3</td>\n",
              "      <td>4</td>\n",
              "      <td>6</td>\n",
              "      <td>13</td>\n",
              "    </tr>\n",
              "    <tr>\n",
              "      <th>$USO</th>\n",
              "      <td>7</td>\n",
              "      <td>4</td>\n",
              "      <td>1</td>\n",
              "      <td>12</td>\n",
              "    </tr>\n",
              "    <tr>\n",
              "      <th>$11</th>\n",
              "      <td>4</td>\n",
              "      <td>3</td>\n",
              "      <td>5</td>\n",
              "      <td>12</td>\n",
              "    </tr>\n",
              "  </tbody>\n",
              "</table>\n",
              "</div>"
            ],
            "text/plain": [
              "label   Bearish  Bullish  Neutral  Total\n",
              "stock                                   \n",
              "$0           37       79      179    295\n",
              "$1           29       54       64    147\n",
              "$4            6        8       28     42\n",
              "$3            9       12       19     40\n",
              "$2            0       16       21     37\n",
              "$5           10        2       18     30\n",
              "$SPY          2        8       16     26\n",
              "$10           4        5       15     24\n",
              "$COMDX        0        2       21     23\n",
              "$50           6        8        6     20\n",
              "$TSLA         2        9        9     20\n",
              "$SCANX        3        7        6     16\n",
              "$12           5        3        8     16\n",
              "$7            3        6        5     14\n",
              "$16           2        2       10     14\n",
              "$26           0        6        7     13\n",
              "$SUMRX        1        6        6     13\n",
              "$6            3        4        6     13\n",
              "$USO          7        4        1     12\n",
              "$11           4        3        5     12"
            ]
          },
          "metadata": {},
          "output_type": "display_data"
        }
      ],
      "source": [
        "# Expand the stock column so each row has one stock symbol per row\n",
        "exploded = train_df.explode(\"stock\")\n",
        "\n",
        "# Group by stock and label, count occurrences\n",
        "stock_sentiment_counts = exploded.groupby([\"stock\", \"label\"]).size().unstack(fill_value=0)\n",
        "\n",
        "# Rename columns to the label_map\n",
        "stock_sentiment_counts = stock_sentiment_counts.rename(columns=label_map)\n",
        "\n",
        "# Add a 'Total' column\n",
        "stock_sentiment_counts['Total'] = stock_sentiment_counts.sum(axis=1)\n",
        "\n",
        "# Sort by the amount of times it was mentioned\n",
        "stock_sentiment_counts = stock_sentiment_counts.sort_values('Total', ascending=False)\n",
        "\n",
        "display(stock_sentiment_counts.head(20))"
      ]
    },
    {
      "cell_type": "markdown",
      "metadata": {},
      "source": [
        "### Corpus Split"
      ]
    },
    {
      "cell_type": "code",
      "execution_count": 32,
      "metadata": {},
      "outputs": [],
      "source": [
        "X_train, X_val, y_train, y_val = train_test_split(train_df['text'], train_df['label'], test_size=0.20, random_state=42, stratify=train_df['label'])"
      ]
    },
    {
      "cell_type": "code",
      "execution_count": 33,
      "metadata": {},
      "outputs": [
        {
          "data": {
            "text/plain": [
              "((7634,), (1909,), (7634,), (1909,))"
            ]
          },
          "execution_count": 33,
          "metadata": {},
          "output_type": "execute_result"
        }
      ],
      "source": [
        "X_train.shape, X_val.shape, y_train.shape, y_val.shape"
      ]
    },
    {
      "cell_type": "code",
      "execution_count": 34,
      "metadata": {},
      "outputs": [],
      "source": [
        "X_test = test_df['text']"
      ]
    },
    {
      "cell_type": "code",
      "execution_count": 35,
      "metadata": {},
      "outputs": [
        {
          "data": {
            "text/plain": [
              "(2388,)"
            ]
          },
          "execution_count": 35,
          "metadata": {},
          "output_type": "execute_result"
        }
      ],
      "source": [
        "X_test.shape"
      ]
    },
    {
      "cell_type": "markdown",
      "metadata": {
        "id": "keNM9d4abSVl"
      },
      "source": [
        "### Data Preprocessing"
      ]
    },
    {
      "cell_type": "code",
      "execution_count": 36,
      "metadata": {},
      "outputs": [],
      "source": [
        "# Function to remove URLs, stock symbols, special characters, normalize whitespace, and convert to lowercase\n",
        "\n",
        "def clean_text(text):\n",
        "    \n",
        "    # Remove URLs\n",
        "    text = re.sub(r\"http\\S+|www\\S+|https\\S+\", \"\", text, flags=re.MULTILINE)\n",
        "    \n",
        "    # Remove stock symbols\n",
        "    text = re.sub(r\"\\$\\w+[\\-:]?\\s*\", \"\", text)\n",
        "    \n",
        "    # Remove special characters\n",
        "    text = re.sub(r\"[^a-zA-Z0-9\\s]\", \"\", text)\n",
        "    \n",
        "    # Normalize whitespace\n",
        "    text = re.sub(r\"\\s+\", \" \", text).strip()\n",
        "    \n",
        "    # Convert to lowercase\n",
        "    text = text.lower()\n",
        "    \n",
        "    return text"
      ]
    },
    {
      "cell_type": "markdown",
      "metadata": {
        "id": "grZLEbA15a7s"
      },
      "source": [
        "#### Stop Words, Lemmatizer, Stemmer"
      ]
    },
    {
      "cell_type": "code",
      "execution_count": 37,
      "metadata": {
        "id": "s8JHP5R45t5q"
      },
      "outputs": [],
      "source": [
        "stop = set(stopwords.words('english'))\n",
        "stemmer = SnowballStemmer('english')\n",
        "lemma = WordNetLemmatizer()"
      ]
    },
    {
      "cell_type": "code",
      "execution_count": 38,
      "metadata": {
        "id": "ar8THr0H391Q"
      },
      "outputs": [],
      "source": [
        "# Function that performs removal of stopwords, and uses lemmatization\n",
        "\n",
        "def remove_stopwords(text, lemmatize=False):\n",
        "    \n",
        "    # Apply the clean_text function\n",
        "    text = clean_text(text)\n",
        "    \n",
        "    # Tokenize the text\n",
        "    tokens = word_tokenize(text)\n",
        "    \n",
        "    # Remove stopwords and punctuation\n",
        "    tokens = [word for word in tokens if word not in stop and word not in string.punctuation]\n",
        "    \n",
        "    # Lemmatize the words\n",
        "    if lemmatize:\n",
        "        tokens = [lemma.lemmatize(word) for word in tokens]\n",
        "        \n",
        "    # stemmed_words = [stemmer.stem(word) for word in tokens]\n",
        "    # stemmed_words = ' '.join(stemmed_words)\n",
        "    \n",
        "    return ' '.join(tokens)"
      ]
    },
    {
      "cell_type": "code",
      "execution_count": 39,
      "metadata": {
        "colab": {
          "base_uri": "https://localhost:8080/"
        },
        "id": "yDob1hJGmppW",
        "outputId": "0347d509-d0fe-4156-f62b-10e3ea4e42a7"
      },
      "outputs": [],
      "source": [
        "# Training\n",
        "X_train = X_train.apply(lambda x: remove_stopwords(x, lemmatize=True))\n",
        "\n",
        "# Validation/Test\n",
        "X_val = X_val.apply(lambda x: remove_stopwords(x, lemmatize=False))\n",
        "X_test = X_test.apply(lambda x: remove_stopwords(x, lemmatize=False))"
      ]
    },
    {
      "cell_type": "code",
      "execution_count": 40,
      "metadata": {},
      "outputs": [
        {
          "data": {
            "text/plain": [
              "'$BYND - JPMorgan reels in expectations on Beyond Meat https://t.co/bd0xbFGjkT'"
            ]
          },
          "execution_count": 40,
          "metadata": {},
          "output_type": "execute_result"
        }
      ],
      "source": [
        "train_df['text'][0]"
      ]
    },
    {
      "cell_type": "code",
      "execution_count": 41,
      "metadata": {},
      "outputs": [
        {
          "data": {
            "text/plain": [
              "'jpmorgan reel expectation beyond meat'"
            ]
          },
          "execution_count": 41,
          "metadata": {},
          "output_type": "execute_result"
        }
      ],
      "source": [
        "X_train[0]"
      ]
    },
    {
      "cell_type": "code",
      "execution_count": 42,
      "metadata": {},
      "outputs": [
        {
          "data": {
            "text/plain": [
              "2186                   nasdaq price 600m 0875 senior note\n",
              "6819                                               future\n",
              "6157    november nonfarm private payroll 125k v 153k c...\n",
              "2462    twitter user explain kohl stock got obliterate...\n",
              "4097    agilysys restaurant find sustainable method li...\n",
              "                              ...                        \n",
              "2807                       japan tobacco report fy result\n",
              "704     fed emergence power player pose new risk indep...\n",
              "990     rise athome fitness service could benefit lulu...\n",
              "4362                    daniel loeb top 5 buy 3rd quarter\n",
              "7664    zee entertainment subhash chandra resigns chai...\n",
              "Name: text, Length: 7634, dtype: object"
            ]
          },
          "execution_count": 42,
          "metadata": {},
          "output_type": "execute_result"
        }
      ],
      "source": [
        "X_train"
      ]
    },
    {
      "cell_type": "code",
      "execution_count": 44,
      "metadata": {},
      "outputs": [
        {
          "data": {
            "text/plain": [
              "((7634,), (7634,), (1909,), (1909,))"
            ]
          },
          "execution_count": 44,
          "metadata": {},
          "output_type": "execute_result"
        }
      ],
      "source": [
        "# Show the shape of the data\n",
        "X_train.shape, y_train.shape, y_val.shape,X_val.shape\n"
      ]
    },
    {
      "cell_type": "markdown",
      "metadata": {
        "id": "UENx-yIw63Hs"
      },
      "source": [
        "#### Define training features - Bag of Words"
      ]
    },
    {
      "cell_type": "code",
      "execution_count": 45,
      "metadata": {
        "id": "-TQ2Sb1Y7BJC"
      },
      "outputs": [],
      "source": [
        "bow = CountVectorizer(binary=True, stop_words='english')\n",
        "X_bow = bow.fit_transform(X_train)\n",
        "# X_bow_stem = bow.fit_transform(X_train_stem)\n",
        "X_bow_valid = bow.transform(X_val)\n",
        "X_bow_test = bow.transform(test_df['text'])"
      ]
    },
    {
      "cell_type": "code",
      "execution_count": 46,
      "metadata": {
        "colab": {
          "base_uri": "https://localhost:8080/",
          "height": 472
        },
        "id": "pCpYwjde7VAM",
        "outputId": "994a0194-6cc6-451e-aded-b25f2cd694bb"
      },
      "outputs": [
        {
          "data": {
            "image/png": "[encoded data removed]",
            "text/plain": [
              "<Figure size 640x480 with 1 Axes>"
            ]
          },
          "metadata": {},
          "output_type": "display_data"
        }
      ],
      "source": [
        "# Visualize top Bag of Words terms (Cleaned)\n",
        "\n",
        "# Use the vectorizer fit on lemmatized data for both matrix and feature names\n",
        "bow_lem = CountVectorizer(binary=True, stop_words='english')\n",
        "\n",
        "X_bow = bow_lem.fit_transform(X_train)\n",
        "\n",
        "clean_bow_sum_lem = np.array(X_bow.sum(axis=0)).flatten()\n",
        "\n",
        "clean_terms = bow_lem.get_feature_names_out()\n",
        "\n",
        "clean_top = pd.DataFrame({'term': clean_terms, 'count': clean_bow_sum_lem}).sort_values(by='count', ascending=False).head(10)\n",
        "\n",
        "sns.barplot(data=clean_top, x='count', y='term')\n",
        "plt.title(\"Top Bag-of-Words Terms (Cleaned)\")\n",
        "plt.show()"
      ]
    },
    {
      "cell_type": "markdown",
      "metadata": {
        "id": "A2UQ4gRtXmzk"
      },
      "source": [
        "#### TF-IDF"
      ]
    },
    {
      "cell_type": "code",
      "execution_count": 47,
      "metadata": {
        "id": "Hrk5URFi18zZ"
      },
      "outputs": [],
      "source": [
        "tfidf = TfidfVectorizer(max_df=0.8, ngram_range=(1,2))"
      ]
    },
    {
      "cell_type": "code",
      "execution_count": 48,
      "metadata": {
        "id": "iXdeneiP2CLQ"
      },
      "outputs": [],
      "source": [
        "X_tfidf = tfidf.fit_transform(X_train).toarray()"
      ]
    },
    {
      "cell_type": "code",
      "execution_count": 49,
      "metadata": {
        "id": "C3M_LE0J7EPw"
      },
      "outputs": [],
      "source": [
        "X_valid_tfidf = tfidf.transform(X_val).toarray()"
      ]
    },
    {
      "cell_type": "code",
      "execution_count": 50,
      "metadata": {
        "id": "v1obou1A870W"
      },
      "outputs": [],
      "source": [
        "X_test_tfidf = tfidf.transform(X_test).toarray()"
      ]
    },
    {
      "cell_type": "markdown",
      "metadata": {
        "id": "9llE7SrGbgGJ"
      },
      "source": [
        "#### VADER"
      ]
    },
    {
      "cell_type": "code",
      "execution_count": 51,
      "metadata": {
        "id": "kh2bF5c7bfrC"
      },
      "outputs": [],
      "source": [
        "analyzer = SentimentIntensityAnalyzer()\n",
        "\n",
        "def vader_scores(text):\n",
        "    scores = analyzer.polarity_scores(text)\n",
        "    return pd.Series([scores['neg'], scores['neu'], scores['pos'], scores['compound']],\n",
        "                     index=[\"vader_neg\", \"vader_neu\", \"vader_pos\", \"vader_compound\"])\n"
      ]
    },
    {
      "cell_type": "code",
      "execution_count": 52,
      "metadata": {
        "id": "Twt94HRgdCpA"
      },
      "outputs": [],
      "source": [
        "# Add VADER features to training set\n",
        "X_train_vader = X_train.apply(vader_scores)\n",
        "X_valid_vader = X_val.apply(vader_scores)\n",
        "X_test_vader = X_test.apply(vader_scores)"
      ]
    },
    {
      "cell_type": "markdown",
      "metadata": {
        "id": "a0w9EYqn8alN"
      },
      "source": [
        "#### Train Classifier"
      ]
    },
    {
      "cell_type": "code",
      "execution_count": 54,
      "metadata": {
        "id": "Po7JAUbf8fYQ"
      },
      "outputs": [],
      "source": [
        "modelknn = KNeighborsClassifier(n_neighbors = 10, metric = 'cosine', weights = 'distance')"
      ]
    },
    {
      "cell_type": "code",
      "execution_count": 55,
      "metadata": {
        "colab": {
          "base_uri": "https://localhost:8080/",
          "height": 81
        },
        "id": "tS_nBPQs8h3q",
        "outputId": "1285d3a0-6664-4418-e5b0-90f2eebb47eb"
      },
      "outputs": [
        {
          "data": {
            "text/html": [
              "<style>#sk-container-id-1 {\n",
              "  /* Definition of color scheme common for light and dark mode */\n",
              "  --sklearn-color-text: #000;\n",
              "  --sklearn-color-text-muted: #666;\n",
              "  --sklearn-color-line: gray;\n",
              "  /* Definition of color scheme for unfitted estimators */\n",
              "  --sklearn-color-unfitted-level-0: #fff5e6;\n",
              "  --sklearn-color-unfitted-level-1: #f6e4d2;\n",
              "  --sklearn-color-unfitted-level-2: #ffe0b3;\n",
              "  --sklearn-color-unfitted-level-3: chocolate;\n",
              "  /* Definition of color scheme for fitted estimators */\n",
              "  --sklearn-color-fitted-level-0: #f0f8ff;\n",
              "  --sklearn-color-fitted-level-1: #d4ebff;\n",
              "  --sklearn-color-fitted-level-2: #b3dbfd;\n",
              "  --sklearn-color-fitted-level-3: cornflowerblue;\n",
              "\n",
              "  /* Specific color for light theme */\n",
              "  --sklearn-color-text-on-default-background: var(--sg-text-color, var(--theme-code-foreground, var(--jp-content-font-color1, black)));\n",
              "  --sklearn-color-background: var(--sg-background-color, var(--theme-background, var(--jp-layout-color0, white)));\n",
              "  --sklearn-color-border-box: var(--sg-text-color, var(--theme-code-foreground, var(--jp-content-font-color1, black)));\n",
              "  --sklearn-color-icon: #696969;\n",
              "\n",
              "  @media (prefers-color-scheme: dark) {\n",
              "    /* Redefinition of color scheme for dark theme */\n",
              "    --sklearn-color-text-on-default-background: var(--sg-text-color, var(--theme-code-foreground, var(--jp-content-font-color1, white)));\n",
              "    --sklearn-color-background: var(--sg-background-color, var(--theme-background, var(--jp-layout-color0, #111)));\n",
              "    --sklearn-color-border-box: var(--sg-text-color, var(--theme-code-foreground, var(--jp-content-font-color1, white)));\n",
              "    --sklearn-color-icon: #878787;\n",
              "  }\n",
              "}\n",
              "\n",
              "#sk-container-id-1 {\n",
              "  color: var(--sklearn-color-text);\n",
              "}\n",
              "\n",
              "#sk-container-id-1 pre {\n",
              "  padding: 0;\n",
              "}\n",
              "\n",
              "#sk-container-id-1 input.sk-hidden--visually {\n",
              "  border: 0;\n",
              "  clip: rect(1px 1px 1px 1px);\n",
              "  clip: rect(1px, 1px, 1px, 1px);\n",
              "  height: 1px;\n",
              "  margin: -1px;\n",
              "  overflow: hidden;\n",
              "  padding: 0;\n",
              "  position: absolute;\n",
              "  width: 1px;\n",
              "}\n",
              "\n",
              "#sk-container-id-1 div.sk-dashed-wrapped {\n",
              "  border: 1px dashed var(--sklearn-color-line);\n",
              "  margin: 0 0.4em 0.5em 0.4em;\n",
              "  box-sizing: border-box;\n",
              "  padding-bottom: 0.4em;\n",
              "  background-color: var(--sklearn-color-background);\n",
              "}\n",
              "\n",
              "#sk-container-id-1 div.sk-container {\n",
              "  /* jupyter's `normalize.less` sets `[hidden] { display: none; }`\n",
              "     but bootstrap.min.css set `[hidden] { display: none !important; }`\n",
              "     so we also need the `!important` here to be able to override the\n",
              "     default hidden behavior on the sphinx rendered scikit-learn.org.\n",
              "     See: https://github.com/scikit-learn/scikit-learn/issues/21755 */\n",
              "  display: inline-block !important;\n",
              "  position: relative;\n",
              "}\n",
              "\n",
              "#sk-container-id-1 div.sk-text-repr-fallback {\n",
              "  display: none;\n",
              "}\n",
              "\n",
              "div.sk-parallel-item,\n",
              "div.sk-serial,\n",
              "div.sk-item {\n",
              "  /* draw centered vertical line to link estimators */\n",
              "  background-image: linear-gradient(var(--sklearn-color-text-on-default-background), var(--sklearn-color-text-on-default-background));\n",
              "  background-size: 2px 100%;\n",
              "  background-repeat: no-repeat;\n",
              "  background-position: center center;\n",
              "}\n",
              "\n",
              "/* Parallel-specific style estimator block */\n",
              "\n",
              "#sk-container-id-1 div.sk-parallel-item::after {\n",
              "  content: \"\";\n",
              "  width: 100%;\n",
              "  border-bottom: 2px solid var(--sklearn-color-text-on-default-background);\n",
              "  flex-grow: 1;\n",
              "}\n",
              "\n",
              "#sk-container-id-1 div.sk-parallel {\n",
              "  display: flex;\n",
              "  align-items: stretch;\n",
              "  justify-content: center;\n",
              "  background-color: var(--sklearn-color-background);\n",
              "  position: relative;\n",
              "}\n",
              "\n",
              "#sk-container-id-1 div.sk-parallel-item {\n",
              "  display: flex;\n",
              "  flex-direction: column;\n",
              "}\n",
              "\n",
              "#sk-container-id-1 div.sk-parallel-item:first-child::after {\n",
              "  align-self: flex-end;\n",
              "  width: 50%;\n",
              "}\n",
              "\n",
              "#sk-container-id-1 div.sk-parallel-item:last-child::after {\n",
              "  align-self: flex-start;\n",
              "  width: 50%;\n",
              "}\n",
              "\n",
              "#sk-container-id-1 div.sk-parallel-item:only-child::after {\n",
              "  width: 0;\n",
              "}\n",
              "\n",
              "/* Serial-specific style estimator block */\n",
              "\n",
              "#sk-container-id-1 div.sk-serial {\n",
              "  display: flex;\n",
              "  flex-direction: column;\n",
              "  align-items: center;\n",
              "  background-color: var(--sklearn-color-background);\n",
              "  padding-right: 1em;\n",
              "  padding-left: 1em;\n",
              "}\n",
              "\n",
              "\n",
              "/* Toggleable style: style used for estimator/Pipeline/ColumnTransformer box that is\n",
              "clickable and can be expanded/collapsed.\n",
              "- Pipeline and ColumnTransformer use this feature and define the default style\n",
              "- Estimators will overwrite some part of the style using the `sk-estimator` class\n",
              "*/\n",
              "\n",
              "/* Pipeline and ColumnTransformer style (default) */\n",
              "\n",
              "#sk-container-id-1 div.sk-toggleable {\n",
              "  /* Default theme specific background. It is overwritten whether we have a\n",
              "  specific estimator or a Pipeline/ColumnTransformer */\n",
              "  background-color: var(--sklearn-color-background);\n",
              "}\n",
              "\n",
              "/* Toggleable label */\n",
              "#sk-container-id-1 label.sk-toggleable__label {\n",
              "  cursor: pointer;\n",
              "  display: flex;\n",
              "  width: 100%;\n",
              "  margin-bottom: 0;\n",
              "  padding: 0.5em;\n",
              "  box-sizing: border-box;\n",
              "  text-align: center;\n",
              "  align-items: start;\n",
              "  justify-content: space-between;\n",
              "  gap: 0.5em;\n",
              "}\n",
              "\n",
              "#sk-container-id-1 label.sk-toggleable__label .caption {\n",
              "  font-size: 0.6rem;\n",
              "  font-weight: lighter;\n",
              "  color: var(--sklearn-color-text-muted);\n",
              "}\n",
              "\n",
              "#sk-container-id-1 label.sk-toggleable__label-arrow:before {\n",
              "  /* Arrow on the left of the label */\n",
              "  content: \"▸\";\n",
              "  float: left;\n",
              "  margin-right: 0.25em;\n",
              "  color: var(--sklearn-color-icon);\n",
              "}\n",
              "\n",
              "#sk-container-id-1 label.sk-toggleable__label-arrow:hover:before {\n",
              "  color: var(--sklearn-color-text);\n",
              "}\n",
              "\n",
              "/* Toggleable content - dropdown */\n",
              "\n",
              "#sk-container-id-1 div.sk-toggleable__content {\n",
              "  max-height: 0;\n",
              "  max-width: 0;\n",
              "  overflow: hidden;\n",
              "  text-align: left;\n",
              "  /* unfitted */\n",
              "  background-color: var(--sklearn-color-unfitted-level-0);\n",
              "}\n",
              "\n",
              "#sk-container-id-1 div.sk-toggleable__content.fitted {\n",
              "  /* fitted */\n",
              "  background-color: var(--sklearn-color-fitted-level-0);\n",
              "}\n",
              "\n",
              "#sk-container-id-1 div.sk-toggleable__content pre {\n",
              "  margin: 0.2em;\n",
              "  border-radius: 0.25em;\n",
              "  color: var(--sklearn-color-text);\n",
              "  /* unfitted */\n",
              "  background-color: var(--sklearn-color-unfitted-level-0);\n",
              "}\n",
              "\n",
              "#sk-container-id-1 div.sk-toggleable__content.fitted pre {\n",
              "  /* unfitted */\n",
              "  background-color: var(--sklearn-color-fitted-level-0);\n",
              "}\n",
              "\n",
              "#sk-container-id-1 input.sk-toggleable__control:checked~div.sk-toggleable__content {\n",
              "  /* Expand drop-down */\n",
              "  max-height: 200px;\n",
              "  max-width: 100%;\n",
              "  overflow: auto;\n",
              "}\n",
              "\n",
              "#sk-container-id-1 input.sk-toggleable__control:checked~label.sk-toggleable__label-arrow:before {\n",
              "  content: \"▾\";\n",
              "}\n",
              "\n",
              "/* Pipeline/ColumnTransformer-specific style */\n",
              "\n",
              "#sk-container-id-1 div.sk-label input.sk-toggleable__control:checked~label.sk-toggleable__label {\n",
              "  color: var(--sklearn-color-text);\n",
              "  background-color: var(--sklearn-color-unfitted-level-2);\n",
              "}\n",
              "\n",
              "#sk-container-id-1 div.sk-label.fitted input.sk-toggleable__control:checked~label.sk-toggleable__label {\n",
              "  background-color: var(--sklearn-color-fitted-level-2);\n",
              "}\n",
              "\n",
              "/* Estimator-specific style */\n",
              "\n",
              "/* Colorize estimator box */\n",
              "#sk-container-id-1 div.sk-estimator input.sk-toggleable__control:checked~label.sk-toggleable__label {\n",
              "  /* unfitted */\n",
              "  background-color: var(--sklearn-color-unfitted-level-2);\n",
              "}\n",
              "\n",
              "#sk-container-id-1 div.sk-estimator.fitted input.sk-toggleable__control:checked~label.sk-toggleable__label {\n",
              "  /* fitted */\n",
              "  background-color: var(--sklearn-color-fitted-level-2);\n",
              "}\n",
              "\n",
              "#sk-container-id-1 div.sk-label label.sk-toggleable__label,\n",
              "#sk-container-id-1 div.sk-label label {\n",
              "  /* The background is the default theme color */\n",
              "  color: var(--sklearn-color-text-on-default-background);\n",
              "}\n",
              "\n",
              "/* On hover, darken the color of the background */\n",
              "#sk-container-id-1 div.sk-label:hover label.sk-toggleable__label {\n",
              "  color: var(--sklearn-color-text);\n",
              "  background-color: var(--sklearn-color-unfitted-level-2);\n",
              "}\n",
              "\n",
              "/* Label box, darken color on hover, fitted */\n",
              "#sk-container-id-1 div.sk-label.fitted:hover label.sk-toggleable__label.fitted {\n",
              "  color: var(--sklearn-color-text);\n",
              "  background-color: var(--sklearn-color-fitted-level-2);\n",
              "}\n",
              "\n",
              "/* Estimator label */\n",
              "\n",
              "#sk-container-id-1 div.sk-label label {\n",
              "  font-family: monospace;\n",
              "  font-weight: bold;\n",
              "  display: inline-block;\n",
              "  line-height: 1.2em;\n",
              "}\n",
              "\n",
              "#sk-container-id-1 div.sk-label-container {\n",
              "  text-align: center;\n",
              "}\n",
              "\n",
              "/* Estimator-specific */\n",
              "#sk-container-id-1 div.sk-estimator {\n",
              "  font-family: monospace;\n",
              "  border: 1px dotted var(--sklearn-color-border-box);\n",
              "  border-radius: 0.25em;\n",
              "  box-sizing: border-box;\n",
              "  margin-bottom: 0.5em;\n",
              "  /* unfitted */\n",
              "  background-color: var(--sklearn-color-unfitted-level-0);\n",
              "}\n",
              "\n",
              "#sk-container-id-1 div.sk-estimator.fitted {\n",
              "  /* fitted */\n",
              "  background-color: var(--sklearn-color-fitted-level-0);\n",
              "}\n",
              "\n",
              "/* on hover */\n",
              "#sk-container-id-1 div.sk-estimator:hover {\n",
              "  /* unfitted */\n",
              "  background-color: var(--sklearn-color-unfitted-level-2);\n",
              "}\n",
              "\n",
              "#sk-container-id-1 div.sk-estimator.fitted:hover {\n",
              "  /* fitted */\n",
              "  background-color: var(--sklearn-color-fitted-level-2);\n",
              "}\n",
              "\n",
              "/* Specification for estimator info (e.g. \"i\" and \"?\") */\n",
              "\n",
              "/* Common style for \"i\" and \"?\" */\n",
              "\n",
              ".sk-estimator-doc-link,\n",
              "a:link.sk-estimator-doc-link,\n",
              "a:visited.sk-estimator-doc-link {\n",
              "  float: right;\n",
              "  font-size: smaller;\n",
              "  line-height: 1em;\n",
              "  font-family: monospace;\n",
              "  background-color: var(--sklearn-color-background);\n",
              "  border-radius: 1em;\n",
              "  height: 1em;\n",
              "  width: 1em;\n",
              "  text-decoration: none !important;\n",
              "  margin-left: 0.5em;\n",
              "  text-align: center;\n",
              "  /* unfitted */\n",
              "  border: var(--sklearn-color-unfitted-level-1) 1pt solid;\n",
              "  color: var(--sklearn-color-unfitted-level-1);\n",
              "}\n",
              "\n",
              ".sk-estimator-doc-link.fitted,\n",
              "a:link.sk-estimator-doc-link.fitted,\n",
              "a:visited.sk-estimator-doc-link.fitted {\n",
              "  /* fitted */\n",
              "  border: var(--sklearn-color-fitted-level-1) 1pt solid;\n",
              "  color: var(--sklearn-color-fitted-level-1);\n",
              "}\n",
              "\n",
              "/* On hover */\n",
              "div.sk-estimator:hover .sk-estimator-doc-link:hover,\n",
              ".sk-estimator-doc-link:hover,\n",
              "div.sk-label-container:hover .sk-estimator-doc-link:hover,\n",
              ".sk-estimator-doc-link:hover {\n",
              "  /* unfitted */\n",
              "  background-color: var(--sklearn-color-unfitted-level-3);\n",
              "  color: var(--sklearn-color-background);\n",
              "  text-decoration: none;\n",
              "}\n",
              "\n",
              "div.sk-estimator.fitted:hover .sk-estimator-doc-link.fitted:hover,\n",
              ".sk-estimator-doc-link.fitted:hover,\n",
              "div.sk-label-container:hover .sk-estimator-doc-link.fitted:hover,\n",
              ".sk-estimator-doc-link.fitted:hover {\n",
              "  /* fitted */\n",
              "  background-color: var(--sklearn-color-fitted-level-3);\n",
              "  color: var(--sklearn-color-background);\n",
              "  text-decoration: none;\n",
              "}\n",
              "\n",
              "/* Span, style for the box shown on hovering the info icon */\n",
              ".sk-estimator-doc-link span {\n",
              "  display: none;\n",
              "  z-index: 9999;\n",
              "  position: relative;\n",
              "  font-weight: normal;\n",
              "  right: .2ex;\n",
              "  padding: .5ex;\n",
              "  margin: .5ex;\n",
              "  width: min-content;\n",
              "  min-width: 20ex;\n",
              "  max-width: 50ex;\n",
              "  color: var(--sklearn-color-text);\n",
              "  box-shadow: 2pt 2pt 4pt #999;\n",
              "  /* unfitted */\n",
              "  background: var(--sklearn-color-unfitted-level-0);\n",
              "  border: .5pt solid var(--sklearn-color-unfitted-level-3);\n",
              "}\n",
              "\n",
              ".sk-estimator-doc-link.fitted span {\n",
              "  /* fitted */\n",
              "  background: var(--sklearn-color-fitted-level-0);\n",
              "  border: var(--sklearn-color-fitted-level-3);\n",
              "}\n",
              "\n",
              ".sk-estimator-doc-link:hover span {\n",
              "  display: block;\n",
              "}\n",
              "\n",
              "/* \"?\"-specific style due to the `<a>` HTML tag */\n",
              "\n",
              "#sk-container-id-1 a.estimator_doc_link {\n",
              "  float: right;\n",
              "  font-size: 1rem;\n",
              "  line-height: 1em;\n",
              "  font-family: monospace;\n",
              "  background-color: var(--sklearn-color-background);\n",
              "  border-radius: 1rem;\n",
              "  height: 1rem;\n",
              "  width: 1rem;\n",
              "  text-decoration: none;\n",
              "  /* unfitted */\n",
              "  color: var(--sklearn-color-unfitted-level-1);\n",
              "  border: var(--sklearn-color-unfitted-level-1) 1pt solid;\n",
              "}\n",
              "\n",
              "#sk-container-id-1 a.estimator_doc_link.fitted {\n",
              "  /* fitted */\n",
              "  border: var(--sklearn-color-fitted-level-1) 1pt solid;\n",
              "  color: var(--sklearn-color-fitted-level-1);\n",
              "}\n",
              "\n",
              "/* On hover */\n",
              "#sk-container-id-1 a.estimator_doc_link:hover {\n",
              "  /* unfitted */\n",
              "  background-color: var(--sklearn-color-unfitted-level-3);\n",
              "  color: var(--sklearn-color-background);\n",
              "  text-decoration: none;\n",
              "}\n",
              "\n",
              "#sk-container-id-1 a.estimator_doc_link.fitted:hover {\n",
              "  /* fitted */\n",
              "  background-color: var(--sklearn-color-fitted-level-3);\n",
              "}\n",
              "</style><div id=\"sk-container-id-1\" class=\"sk-top-container\"><div class=\"sk-text-repr-fallback\"><pre>KNeighborsClassifier(metric=&#x27;cosine&#x27;, n_neighbors=10, weights=&#x27;distance&#x27;)</pre><b>In a Jupyter environment, please rerun this cell to show the HTML representation or trust the notebook. <br />On GitHub, the HTML representation is unable to render, please try loading this page with nbviewer.org.</b></div><div class=\"sk-container\" hidden><div class=\"sk-item\"><div class=\"sk-estimator fitted sk-toggleable\"><input class=\"sk-toggleable__control sk-hidden--visually\" id=\"sk-estimator-id-1\" type=\"checkbox\" checked><label for=\"sk-estimator-id-1\" class=\"sk-toggleable__label fitted sk-toggleable__label-arrow\"><div><div>KNeighborsClassifier</div></div><div><a class=\"sk-estimator-doc-link fitted\" rel=\"noreferrer\" target=\"_blank\" href=\"https://scikit-learn.org/1.6/modules/generated/sklearn.neighbors.KNeighborsClassifier.html\">?<span>Documentation for KNeighborsClassifier</span></a><span class=\"sk-estimator-doc-link fitted\">i<span>Fitted</span></span></div></label><div class=\"sk-toggleable__content fitted\"><pre>KNeighborsClassifier(metric=&#x27;cosine&#x27;, n_neighbors=10, weights=&#x27;distance&#x27;)</pre></div> </div></div></div></div>"
            ],
            "text/plain": [
              "KNeighborsClassifier(metric='cosine', n_neighbors=10, weights='distance')"
            ]
          },
          "execution_count": 55,
          "metadata": {},
          "output_type": "execute_result"
        }
      ],
      "source": [
        "modelknn.fit(X_tfidf,y_train)"
      ]
    },
    {
      "cell_type": "code",
      "execution_count": 56,
      "metadata": {
        "id": "69CyMtDH_aTk"
      },
      "outputs": [],
      "source": [
        "y_valid_pred = modelknn.predict(X_valid_tfidf)"
      ]
    },
    {
      "cell_type": "code",
      "execution_count": 57,
      "metadata": {
        "colab": {
          "base_uri": "https://localhost:8080/"
        },
        "id": "dhLvB6vXqJti",
        "outputId": "55cd538e-fa24-45e8-bc7a-96cc19c3013d"
      },
      "outputs": [
        {
          "data": {
            "text/plain": [
              "0.0020750915406073643"
            ]
          },
          "execution_count": 57,
          "metadata": {},
          "output_type": "execute_result"
        }
      ],
      "source": [
        "silhouette_score(X_valid_tfidf, y_valid_pred)"
      ]
    },
    {
      "cell_type": "markdown",
      "metadata": {
        "id": "kaDwq7uS8NkZ"
      },
      "source": [
        "#### Embeddings"
      ]
    },
    {
      "cell_type": "code",
      "execution_count": 58,
      "metadata": {
        "id": "jey3_qOB8UtB"
      },
      "outputs": [],
      "source": [
        "dim=200"
      ]
    },
    {
      "cell_type": "code",
      "execution_count": 59,
      "metadata": {
        "colab": {
          "base_uri": "https://localhost:8080/"
        },
        "id": "Vuz98xoT8JdE",
        "outputId": "b20f162e-3db9-4a02-fe2a-bb23ca97ec97"
      },
      "outputs": [],
      "source": [
        "glove_model = api.load(f'glove-twitter-{dim}')"
      ]
    },
    {
      "cell_type": "code",
      "execution_count": 60,
      "metadata": {
        "id": "agurACCg2cTb"
      },
      "outputs": [],
      "source": [
        "#Extract sentence embeddings from X_train_clean by averaging word embeddings per sentence ---\n",
        "def average_embedding(text, model, dim):\n",
        "    words = text.split()\n",
        "    vectors = []\n",
        "    for word in words:\n",
        "        if word in model:\n",
        "            vectors.append(model[word])\n",
        "    if vectors:\n",
        "        return np.mean(vectors, axis=0)\n",
        "    else:\n",
        "        return np.zeros(dim)"
      ]
    },
    {
      "cell_type": "code",
      "execution_count": 61,
      "metadata": {
        "id": "mfMiCl98eUNI"
      },
      "outputs": [],
      "source": [
        "X_train_glove = np.array([average_embedding(text, glove_model, dim=dim) for text in X_train])\n",
        "X_valid_glove = np.array([average_embedding(text, glove_model, dim=dim) for text in X_val])\n",
        "X_test_glove  = np.array([average_embedding(text, glove_model, dim=dim) for text in X_test])"
      ]
    },
    {
      "cell_type": "code",
      "execution_count": 62,
      "metadata": {
        "id": "DrWI1Hc1eZFP"
      },
      "outputs": [],
      "source": [
        "import numpy as np\n",
        "\n",
        "X_train_combined = np.hstack([X_train_glove, X_train_vader.values])\n",
        "X_valid_combined = np.hstack([X_valid_glove, X_valid_vader.values])\n",
        "X_test_combined  = np.hstack([X_test_glove,  X_test_vader.values])\n"
      ]
    },
    {
      "cell_type": "markdown",
      "metadata": {},
      "source": [
        "### RNN"
      ]
    },
    {
      "cell_type": "code",
      "execution_count": 63,
      "metadata": {},
      "outputs": [
        {
          "name": "stderr",
          "output_type": "stream",
          "text": [
            "C:\\Users\\diogo\\AppData\\Local\\Temp\\ipykernel_3104\\2619327569.py:3: DeprecationWarning: `import kerastuner` is deprecated, please use `import keras_tuner`.\n",
            "  from kerastuner.tuners import RandomSearch\n"
          ]
        }
      ],
      "source": [
        "import tensorflow as tf\n",
        "from tensorflow import keras\n",
        "from kerastuner.tuners import RandomSearch\n",
        "from tensorflow.keras.models import Sequential\n",
        "from tensorflow.keras.layers import Dense, Embedding, Dropout, Bidirectional, LSTM, GRU\n",
        "from tensorflow.keras.preprocessing.text import Tokenizer\n",
        "from tensorflow.keras.preprocessing.sequence import pad_sequences\n",
        "from tensorflow.keras.callbacks import EarlyStopping"
      ]
    },
    {
      "cell_type": "code",
      "execution_count": 64,
      "metadata": {},
      "outputs": [],
      "source": [
        "tokenizer = Tokenizer(num_words=10000)\n",
        "tokenizer.fit_on_texts(X_train)"
      ]
    },
    {
      "cell_type": "code",
      "execution_count": 65,
      "metadata": {},
      "outputs": [],
      "source": [
        "X_train_seq = tokenizer.texts_to_sequences(X_train)\n",
        "X_val_seq = tokenizer.texts_to_sequences(X_val)\n",
        "X_test_seq = tokenizer.texts_to_sequences(X_test)"
      ]
    },
    {
      "cell_type": "code",
      "execution_count": 66,
      "metadata": {},
      "outputs": [],
      "source": [
        "max_seq_length = 150\n",
        "X_train_pad = pad_sequences(X_train_seq, maxlen=max_seq_length, padding='post')\n",
        "X_val_pad = pad_sequences(X_val_seq, maxlen=max_seq_length, padding='post')\n",
        "X_test_pad = pad_sequences(X_test_seq, maxlen=max_seq_length, padding='post')"
      ]
    },
    {
      "cell_type": "code",
      "execution_count": 67,
      "metadata": {},
      "outputs": [],
      "source": [
        "# Build embedding matrix for Keras Embedding layer\n",
        "embedding_dim = dim\n",
        "vocab_size = min(10000, len(tokenizer.word_index) + 1)\n",
        "\n",
        "embedding_matrix = np.zeros((vocab_size, embedding_dim))\n",
        "for word, i in tokenizer.word_index.items():\n",
        "    if i >= vocab_size:\n",
        "        continue\n",
        "    if word in glove_model:\n",
        "        embedding_matrix[i] = glove_model[word]\n"
      ]
    },
    {
      "cell_type": "code",
      "execution_count": 68,
      "metadata": {},
      "outputs": [
        {
          "name": "stderr",
          "output_type": "stream",
          "text": [
            "c:\\Users\\diogo\\AppData\\Local\\Programs\\Python\\Python310\\lib\\site-packages\\keras\\src\\layers\\core\\embedding.py:97: UserWarning: Argument `input_length` is deprecated. Just remove it.\n",
            "  warnings.warn(\n"
          ]
        }
      ],
      "source": [
        "# Recurrent Neural Network\n",
        "\n",
        "model1 = Sequential([\n",
        "    Embedding(input_dim=vocab_size,\n",
        "              output_dim=embedding_dim,\n",
        "              weights=[embedding_matrix],\n",
        "              input_length=max_seq_length,\n",
        "              trainable=True),\n",
        "    Bidirectional(LSTM(64, return_sequences=True, dropout=0.3, recurrent_dropout=0.3)),\n",
        "    Bidirectional(LSTM(32)),\n",
        "    Dense(64, activation='relu'),\n",
        "    Dropout(0.5),\n",
        "    Dense(3, activation='softmax')\n",
        "])\n",
        "\n",
        "model1.compile(loss='sparse_categorical_crossentropy', optimizer='adam', metrics=['accuracy'])"
      ]
    },
    {
      "cell_type": "code",
      "execution_count": 69,
      "metadata": {},
      "outputs": [],
      "source": [
        "# Create class weights based on label distribution\n",
        "class_weights = {\n",
        "    0: label_distribution['Bearish'] / sum(label_distribution.values()),\n",
        "    1: label_distribution['Bullish'] / sum(label_distribution.values()),\n",
        "    2: label_distribution['Neutral'] / sum(label_distribution.values())\n",
        "}\n"
      ]
    },
    {
      "cell_type": "code",
      "execution_count": 70,
      "metadata": {},
      "outputs": [
        {
          "name": "stdout",
          "output_type": "stream",
          "text": [
            "Epoch 1/10\n",
            "\u001b[1m239/239\u001b[0m \u001b[32m━━━━━━━━━━━━━━━━━━━━\u001b[0m\u001b[37m\u001b[0m \u001b[1m39s\u001b[0m 140ms/step - accuracy: 0.6589 - loss: 0.8555 - val_accuracy: 0.7276 - val_loss: 0.6608\n",
            "Epoch 2/10\n",
            "\u001b[1m239/239\u001b[0m \u001b[32m━━━━━━━━━━━━━━━━━━━━\u001b[0m\u001b[37m\u001b[0m \u001b[1m31s\u001b[0m 128ms/step - accuracy: 0.7830 - loss: 0.5455 - val_accuracy: 0.7575 - val_loss: 0.6339\n",
            "Epoch 3/10\n",
            "\u001b[1m239/239\u001b[0m \u001b[32m━━━━━━━━━━━━━━━━━━━━\u001b[0m\u001b[37m\u001b[0m \u001b[1m31s\u001b[0m 132ms/step - accuracy: 0.8596 - loss: 0.3772 - val_accuracy: 0.7548 - val_loss: 0.6372\n",
            "Epoch 4/10\n",
            "\u001b[1m239/239\u001b[0m \u001b[32m━━━━━━━━━━━━━━━━━━━━\u001b[0m\u001b[37m\u001b[0m \u001b[1m31s\u001b[0m 130ms/step - accuracy: 0.9037 - loss: 0.2733 - val_accuracy: 0.7643 - val_loss: 0.7190\n",
            "Epoch 5/10\n",
            "\u001b[1m239/239\u001b[0m \u001b[32m━━━━━━━━━━━━━━━━━━━━\u001b[0m\u001b[37m\u001b[0m \u001b[1m31s\u001b[0m 129ms/step - accuracy: 0.9292 - loss: 0.2016 - val_accuracy: 0.7648 - val_loss: 0.8068\n",
            "\u001b[1m60/60\u001b[0m \u001b[32m━━━━━━━━━━━━━━━━━━━━\u001b[0m\u001b[37m\u001b[0m \u001b[1m2s\u001b[0m 28ms/step\n"
          ]
        }
      ],
      "source": [
        "# Early stopping callback\n",
        "\n",
        "early_stopping = EarlyStopping(monitor='val_accuracy', patience=2, restore_best_weights=True)\n",
        "\n",
        "history = model1.fit(X_train_pad, y_train, epochs=10, batch_size=32, verbose=1, callbacks=[early_stopping], validation_data=(X_val_pad, y_val))\n",
        "\n",
        "valid_preds_glove = model1.predict(X_val_pad)"
      ]
    },
    {
      "cell_type": "code",
      "execution_count": 71,
      "metadata": {},
      "outputs": [
        {
          "name": "stdout",
          "output_type": "stream",
          "text": [
            "              precision    recall  f1-score   support\n",
            "\n",
            "     Bearish       0.74      0.32      0.45       288\n",
            "     Bullish       0.62      0.54      0.57       385\n",
            "     Neutral       0.79      0.93      0.85      1236\n",
            "\n",
            "    accuracy                           0.76      1909\n",
            "   macro avg       0.72      0.60      0.63      1909\n",
            "weighted avg       0.75      0.76      0.74      1909\n",
            "\n"
          ]
        }
      ],
      "source": [
        "# Classification report for validation set\n",
        "print(classification_report(y_val, np.argmax(valid_preds_glove, axis=1), target_names=label_map.values()))"
      ]
    },
    {
      "cell_type": "code",
      "execution_count": 72,
      "metadata": {},
      "outputs": [
        {
          "data": {
            "image/png": "[encoded data removed]",
            "text/plain": [
              "<Figure size 640x480 with 2 Axes>"
            ]
          },
          "metadata": {},
          "output_type": "display_data"
        }
      ],
      "source": [
        "# heatmap of confusion matrix for validation set\n",
        "cm = confusion_matrix(y_val, np.argmax(valid_preds_glove, axis=1))\n",
        "disp = ConfusionMatrixDisplay(confusion_matrix=cm, display_labels=label_map.values())\n",
        "disp.plot(cmap=plt.cm.Blues)\n",
        "plt.title(\"Confusion Matrix for Validation Set\")\n",
        "plt.show()"
      ]
    },
    {
      "cell_type": "markdown",
      "metadata": {},
      "source": [
        "### RNN second archicture"
      ]
    },
    {
      "cell_type": "code",
      "execution_count": 73,
      "metadata": {},
      "outputs": [
        {
          "name": "stderr",
          "output_type": "stream",
          "text": [
            "c:\\Users\\diogo\\AppData\\Local\\Programs\\Python\\Python310\\lib\\site-packages\\keras\\src\\layers\\core\\embedding.py:97: UserWarning: Argument `input_length` is deprecated. Just remove it.\n",
            "  warnings.warn(\n"
          ]
        }
      ],
      "source": [
        "# Recurrent Neural Network\n",
        "\n",
        "model2 = Sequential([\n",
        "    Embedding(input_dim=vocab_size,\n",
        "              output_dim=embedding_dim,\n",
        "              weights=[embedding_matrix],\n",
        "              input_length=max_seq_length,\n",
        "              trainable=True),\n",
        "    Bidirectional(GRU(64, return_sequences=True, dropout=0.3, recurrent_dropout=0.3)),\n",
        "    Bidirectional(GRU(32)),\n",
        "    Dense(64, activation='relu'),\n",
        "    Dropout(0.5),\n",
        "    Dense(3, activation='softmax')\n",
        "])\n",
        "\n",
        "model2.compile(loss='sparse_categorical_crossentropy', optimizer='adam', metrics=['accuracy'])"
      ]
    },
    {
      "cell_type": "code",
      "execution_count": 74,
      "metadata": {},
      "outputs": [
        {
          "name": "stdout",
          "output_type": "stream",
          "text": [
            "Epoch 1/10\n",
            "\u001b[1m239/239\u001b[0m \u001b[32m━━━━━━━━━━━━━━━━━━━━\u001b[0m\u001b[37m\u001b[0m \u001b[1m33s\u001b[0m 113ms/step - accuracy: 0.6526 - loss: 0.8518 - val_accuracy: 0.7030 - val_loss: 0.6848\n",
            "Epoch 2/10\n",
            "\u001b[1m239/239\u001b[0m \u001b[32m━━━━━━━━━━━━━━━━━━━━\u001b[0m\u001b[37m\u001b[0m \u001b[1m24s\u001b[0m 101ms/step - accuracy: 0.7638 - loss: 0.5862 - val_accuracy: 0.7632 - val_loss: 0.6644\n",
            "Epoch 3/10\n",
            "\u001b[1m239/239\u001b[0m \u001b[32m━━━━━━━━━━━━━━━━━━━━\u001b[0m\u001b[37m\u001b[0m \u001b[1m24s\u001b[0m 100ms/step - accuracy: 0.8457 - loss: 0.3997 - val_accuracy: 0.7543 - val_loss: 0.6174\n",
            "Epoch 4/10\n",
            "\u001b[1m239/239\u001b[0m \u001b[32m━━━━━━━━━━━━━━━━━━━━\u001b[0m\u001b[37m\u001b[0m \u001b[1m24s\u001b[0m 99ms/step - accuracy: 0.8976 - loss: 0.2848 - val_accuracy: 0.7653 - val_loss: 0.7039\n",
            "Epoch 5/10\n",
            "\u001b[1m239/239\u001b[0m \u001b[32m━━━━━━━━━━━━━━━━━━━━\u001b[0m\u001b[37m\u001b[0m \u001b[1m24s\u001b[0m 99ms/step - accuracy: 0.9273 - loss: 0.2056 - val_accuracy: 0.7370 - val_loss: 0.7654\n",
            "Epoch 6/10\n",
            "\u001b[1m239/239\u001b[0m \u001b[32m━━━━━━━━━━━━━━━━━━━━\u001b[0m\u001b[37m\u001b[0m \u001b[1m23s\u001b[0m 97ms/step - accuracy: 0.9466 - loss: 0.1607 - val_accuracy: 0.7480 - val_loss: 0.8856\n",
            "\u001b[1m60/60\u001b[0m \u001b[32m━━━━━━━━━━━━━━━━━━━━\u001b[0m\u001b[37m\u001b[0m \u001b[1m2s\u001b[0m 27ms/step\n"
          ]
        }
      ],
      "source": [
        "# Early stopping callback\n",
        "\n",
        "early_stopping = EarlyStopping(monitor='val_accuracy', patience=2, restore_best_weights=True)\n",
        "\n",
        "history2 = model2.fit(X_train_pad, y_train, epochs=10, batch_size=32, verbose=1, callbacks=[early_stopping], validation_data=(X_val_pad, y_val))\n",
        "\n",
        "valid_preds_glove_GRU = model2.predict(X_val_pad)"
      ]
    },
    {
      "cell_type": "code",
      "execution_count": null,
      "metadata": {},
      "outputs": [
        {
          "name": "stdout",
          "output_type": "stream",
          "text": [
            "              precision    recall  f1-score   support\n",
            "\n",
            "     Bearish       0.64      0.47      0.54       288\n",
            "     Bullish       0.61      0.61      0.61       385\n",
            "     Neutral       0.84      0.89      0.86      1236\n",
            "\n",
            "    accuracy                           0.77      1909\n",
            "   macro avg       0.70      0.66      0.67      1909\n",
            "weighted avg       0.76      0.77      0.76      1909\n",
            "\n"
          ]
        }
      ],
      "source": [
        "# Classification report for validation set\n",
        "print(classification_report(y_val, np.argmax(valid_preds_glove_GRU, axis=1), target_names=label_map.values()))"
      ]
    },
    {
      "cell_type": "code",
      "execution_count": null,
      "metadata": {},
      "outputs": [
        {
          "data": {
            "image/png": "[encoded data removed]",
            "text/plain": [
              "<Figure size 640x480 with 2 Axes>"
            ]
          },
          "metadata": {},
          "output_type": "display_data"
        }
      ],
      "source": [
        "# heatmap of confusion matrix for validation set\n",
        "cm = confusion_matrix(y_val, np.argmax(valid_preds_glove_GRU, axis=1))\n",
        "disp = ConfusionMatrixDisplay(confusion_matrix=cm, display_labels=label_map.values())\n",
        "disp.plot(cmap=plt.cm.Blues)\n",
        "plt.title(\"Confusion Matrix for Validation Set\")\n",
        "plt.show()"
      ]
    },
    {
      "cell_type": "markdown",
      "metadata": {},
      "source": [
        "### KerasTuner"
      ]
    },
    {
      "cell_type": "code",
      "execution_count": null,
      "metadata": {},
      "outputs": [],
      "source": [
        "def build_model(hp):\n",
        "    model = Sequential([\n",
        "        Embedding(\n",
        "            input_dim=vocab_size,\n",
        "            output_dim=dim,\n",
        "            weights=[embedding_matrix],\n",
        "            input_length=max_seq_length,\n",
        "            trainable=True\n",
        "        ),\n",
        "        Bidirectional(LSTM(\n",
        "            units=hp.Int('lstm_units', min_value=32, max_value=128, step=32),\n",
        "            return_sequences=True,\n",
        "            dropout=hp.Float('dropout1', 0.1, 0.5, step=0.1),\n",
        "            recurrent_dropout=hp.Float('recurrent_dropout1', 0.1, 0.5, step=0.1)\n",
        "        )),\n",
        "        Bidirectional(LSTM(\n",
        "            units=hp.Int('lstm_units2', min_value=16, max_value=64, step=16),\n",
        "            dropout=hp.Float('dropout2', 0.1, 0.5, step=0.1)\n",
        "        )),\n",
        "        Dense(\n",
        "            units=hp.Int('dense_units', min_value=32, max_value=128, step=32),\n",
        "            activation='relu'\n",
        "        ),\n",
        "        Dropout(hp.Float('dropout3', 0.1, 0.5, step=0.1)),\n",
        "        Dense(3, activation='softmax')\n",
        "    ])\n",
        "    model.compile(\n",
        "        loss='sparse_categorical_crossentropy',\n",
        "        optimizer='adam',\n",
        "        metrics=['accuracy']\n",
        "    )\n",
        "    return model\n",
        "\n",
        "tuner = RandomSearch(\n",
        "    build_model,\n",
        "    objective='val_accuracy',\n",
        "    max_trials=10,\n",
        "    executions_per_trial=2,\n",
        "    directory='keras_tuner_dir',\n",
        "    project_name='stock_sentiment_rnn'\n",
        ")\n"
      ]
    },
    {
      "cell_type": "code",
      "execution_count": null,
      "metadata": {},
      "outputs": [],
      "source": [
        "tuner.search(X_train_pad, y_train,\n",
        "             epochs=5,\n",
        "             validation_data=(X_val_pad, y_val))\n"
      ]
    },
    {
      "cell_type": "code",
      "execution_count": null,
      "metadata": {},
      "outputs": [],
      "source": [
        "best_model = tuner.get_best_models(num_models=1)[0]\n",
        "best_model.summary()\n"
      ]
    },
    {
      "cell_type": "code",
      "execution_count": null,
      "metadata": {},
      "outputs": [],
      "source": [
        "best_hp = tuner.get_best_hyperparameters(1)[0]\n",
        "print(f\"Best Hyperparameters: {best_hp.values}\")"
      ]
    },
    {
      "cell_type": "code",
      "execution_count": null,
      "metadata": {},
      "outputs": [],
      "source": [
        "valid_preds_best = best_model.predict(X_val_pad)\n",
        "\n",
        "# Classification report for validation set\n",
        "print(classification_report(y_val, np.argmax(valid_preds_best, axis=1), target_names=label_map.values()))\n"
      ]
    },
    {
      "cell_type": "code",
      "execution_count": null,
      "metadata": {},
      "outputs": [],
      "source": [
        "# Heatmap of confusion matrix for validation set\n",
        "cm_best = confusion_matrix(y_val, np.argmax(valid_preds_best, axis=1))\n",
        "disp_best = ConfusionMatrixDisplay(confusion_matrix=cm_best, display_labels=label_map.values())\n",
        "disp_best.plot(cmap=plt.cm.Blues)"
      ]
    },
    {
      "cell_type": "markdown",
      "metadata": {},
      "source": [
        "### Bert embedds"
      ]
    },
    {
      "cell_type": "code",
      "execution_count": 75,
      "metadata": {},
      "outputs": [
        {
          "name": "stderr",
          "output_type": "stream",
          "text": [
            "c:\\Users\\diogo\\AppData\\Local\\Programs\\Python\\Python310\\lib\\site-packages\\tqdm\\auto.py:21: TqdmWarning: IProgress not found. Please update jupyter and ipywidgets. See https://ipywidgets.readthedocs.io/en/stable/user_install.html\n",
            "  from .autonotebook import tqdm as notebook_tqdm\n"
          ]
        },
        {
          "name": "stdout",
          "output_type": "stream",
          "text": [
            "WARNING:tensorflow:From c:\\Users\\diogo\\AppData\\Local\\Programs\\Python\\Python310\\lib\\site-packages\\tf_keras\\src\\losses.py:2976: The name tf.losses.sparse_softmax_cross_entropy is deprecated. Please use tf.compat.v1.losses.sparse_softmax_cross_entropy instead.\n",
            "\n"
          ]
        }
      ],
      "source": [
        "from transformers import AutoTokenizer\n",
        "import tensorflow as tf\n",
        "from transformers import TFBertForSequenceClassification,TFAutoModelForSequenceClassification"
      ]
    },
    {
      "cell_type": "code",
      "execution_count": 76,
      "metadata": {},
      "outputs": [],
      "source": [
        "model_name = 'bert-base-uncased'\n",
        "tokenizer = AutoTokenizer.from_pretrained(model_name)\n",
        "\n",
        "def tokenize_for_bert(texts):\n",
        "    tokens = tokenizer(\n",
        "        list(texts),\n",
        "        padding='max_length',\n",
        "        truncation=True,\n",
        "        max_length=128,\n",
        "        return_tensors='tf'\n",
        "    )\n",
        "    return tokens['input_ids'], tokens['attention_mask']"
      ]
    },
    {
      "cell_type": "code",
      "execution_count": 82,
      "metadata": {},
      "outputs": [
        {
          "name": "stderr",
          "output_type": "stream",
          "text": [
            "All PyTorch model weights were used when initializing TFBertForSequenceClassification.\n",
            "\n",
            "Some weights or buffers of the TF 2.0 model TFBertForSequenceClassification were not initialized from the PyTorch model and are newly initialized: ['classifier.weight', 'classifier.bias']\n",
            "You should probably TRAIN this model on a down-stream task to be able to use it for predictions and inference.\n"
          ]
        }
      ],
      "source": [
        "train_input_ids, train_attention_mask = tokenize_for_bert(X_train)\n",
        "valid_input_ids, valid_attention_mask = tokenize_for_bert(X_val)\n",
        "\n",
        "bert_model = TFBertForSequenceClassification.from_pretrained(model_name, num_labels = len(label_map))"
      ]
    },
    {
      "cell_type": "code",
      "execution_count": 83,
      "metadata": {},
      "outputs": [],
      "source": [
        "loss_fn = tf.keras.losses.SparseCategoricalCrossentropy(from_logits = True)\n",
        "metrics = [tf.keras.metrics.SparseCategoricalAccuracy('accuracy')]\n",
        "optimizer = tf.keras.optimizers.Adam(learning_rate = 2e-5, epsilon = 1e-08)\n",
        "\n",
        "bert_model.compile(optimizer=optimizer, loss = loss_fn, metrics = metrics)"
      ]
    },
    {
      "cell_type": "code",
      "execution_count": null,
      "metadata": {},
      "outputs": [
        {
          "name": "stdout",
          "output_type": "stream",
          "text": [
            "Epoch 1/5\n",
            "239/239 [==============================] - 1119s 5s/step - loss: 0.3889 - accuracy: 0.8619 - val_loss: 0.4865 - val_accuracy: 0.8193\n",
            "Epoch 2/5\n",
            "239/239 [==============================] - 1141s 5s/step - loss: 0.2405 - accuracy: 0.9193 - val_loss: 0.5370 - val_accuracy: 0.8182\n",
            "Epoch 3/5\n",
            "239/239 [==============================] - 1142s 5s/step - loss: 0.1515 - accuracy: 0.9506 - val_loss: 0.6054 - val_accuracy: 0.8266\n",
            "Epoch 4/5\n",
            "239/239 [==============================] - 1566s 7s/step - loss: 0.1002 - accuracy: 0.9687 - val_loss: 0.6419 - val_accuracy: 0.8271\n",
            "Epoch 5/5\n",
            "239/239 [==============================] - 1147s 5s/step - loss: 0.0683 - accuracy: 0.9798 - val_loss: 0.7504 - val_accuracy: 0.8203\n"
          ]
        }
      ],
      "source": [
        "history = bert_model.fit([train_input_ids, train_attention_mask], tf.convert_to_tensor(y_train), validation_data = ([valid_input_ids, valid_attention_mask],tf.convert_to_tensor(y_val)) ,batch_size=32, epochs=5)"
      ]
    },
    {
      "cell_type": "code",
      "execution_count": null,
      "metadata": {},
      "outputs": [
        {
          "name": "stdout",
          "output_type": "stream",
          "text": [
            "60/60 [==============================] - 92s 1s/step\n",
            "Validation Accuracy: 82.03 %\n"
          ]
        }
      ],
      "source": [
        "predictions = bert_model.predict([valid_input_ids, valid_attention_mask])\n",
        "y_pred = np.argmax(predictions.logits, axis=1)\n",
        "\n",
        "print(\"Validation Accuracy:\", round(accuracy_score(y_val, y_pred) * 100, 2), \"%\")"
      ]
    },
    {
      "cell_type": "code",
      "execution_count": null,
      "metadata": {},
      "outputs": [
        {
          "name": "stdout",
          "output_type": "stream",
          "text": [
            "              precision    recall  f1-score   support\n",
            "\n",
            "     Bearish       0.73      0.61      0.66       288\n",
            "     Bullish       0.79      0.64      0.71       385\n",
            "     Neutral       0.84      0.92      0.88      1236\n",
            "\n",
            "    accuracy                           0.82      1909\n",
            "   macro avg       0.79      0.73      0.75      1909\n",
            "weighted avg       0.82      0.82      0.81      1909\n",
            "\n"
          ]
        }
      ],
      "source": [
        "# Classification report for validation set\n",
        "print(classification_report(y_val, y_pred, target_names=label_map.values()))"
      ]
    },
    {
      "cell_type": "code",
      "execution_count": null,
      "metadata": {},
      "outputs": [
        {
          "data": {
            "image/png": "[encoded data removed]",
            "text/plain": [
              "<Figure size 640x480 with 2 Axes>"
            ]
          },
          "metadata": {},
          "output_type": "display_data"
        }
      ],
      "source": [
        "# Confusion Matrix\n",
        "from sklearn.metrics import confusion_matrix, ConfusionMatrixDisplay\n",
        "cm_bert = confusion_matrix(y_val, y_pred)\n",
        "disp_bert = ConfusionMatrixDisplay(confusion_matrix=cm_bert, display_labels=label_map.values())\n",
        "disp_bert.plot(cmap=plt.cm.Blues)\n",
        "plt.title(\"Confusion Matrix for BERT Model on Validation Set\")\n",
        "plt.show()"
      ]
    },
    {
      "cell_type": "markdown",
      "metadata": {},
      "source": [
        "### DistilRoberta"
      ]
    },
    {
      "cell_type": "code",
      "execution_count": 77,
      "metadata": {},
      "outputs": [],
      "source": [
        "# DistilRoBERTa model\n",
        "model_name2 = 'distilroberta-base'\n",
        "distilroberta_tokenizer = AutoTokenizer.from_pretrained(model_name2)\n",
        "\n",
        "def tokenize_for_distilroberta(texts):\n",
        "    tokens = distilroberta_tokenizer(\n",
        "        list(texts),\n",
        "        padding='max_length',\n",
        "        truncation=True,\n",
        "        max_length=128,\n",
        "        return_tensors='tf'\n",
        "    )\n",
        "    return tokens['input_ids'], tokens['attention_mask']\n"
      ]
    },
    {
      "cell_type": "code",
      "execution_count": 78,
      "metadata": {},
      "outputs": [
        {
          "name": "stdout",
          "output_type": "stream",
          "text": [
            "WARNING:tensorflow:From c:\\Users\\diogo\\AppData\\Local\\Programs\\Python\\Python310\\lib\\site-packages\\tf_keras\\src\\backend.py:873: The name tf.get_default_graph is deprecated. Please use tf.compat.v1.get_default_graph instead.\n",
            "\n"
          ]
        },
        {
          "name": "stderr",
          "output_type": "stream",
          "text": [
            "All PyTorch model weights were used when initializing TFRobertaForSequenceClassification.\n",
            "\n",
            "Some weights or buffers of the TF 2.0 model TFRobertaForSequenceClassification were not initialized from the PyTorch model and are newly initialized: ['classifier.dense.weight', 'classifier.dense.bias', 'classifier.out_proj.weight', 'classifier.out_proj.bias']\n",
            "You should probably TRAIN this model on a down-stream task to be able to use it for predictions and inference.\n"
          ]
        }
      ],
      "source": [
        "# Tokenize the data\n",
        "train_input_ids_rob, train_attention_mask_rob = tokenize_for_distilroberta(X_train)\n",
        "valid_input_ids_rob, valid_attention_mask_rob = tokenize_for_distilroberta(X_val)\n",
        "\n",
        "# Load DistilRoBERTa model\n",
        "distilroberta_model = TFAutoModelForSequenceClassification.from_pretrained(model_name2, num_labels=len(label_map))"
      ]
    },
    {
      "cell_type": "code",
      "execution_count": 84,
      "metadata": {},
      "outputs": [],
      "source": [
        "# Compile the model\n",
        "loss_fn = tf.keras.losses.SparseCategoricalCrossentropy(from_logits=True)\n",
        "metrics = [tf.keras.metrics.SparseCategoricalAccuracy('accuracy')]\n",
        "optimizer = tf.keras.optimizers.Adam(learning_rate=2e-5, epsilon=1e-08)\n",
        "\n",
        "distilroberta_model.compile(optimizer = optimizer, loss = loss_fn, metrics = metrics)"
      ]
    },
    {
      "cell_type": "code",
      "execution_count": 85,
      "metadata": {},
      "outputs": [
        {
          "name": "stdout",
          "output_type": "stream",
          "text": [
            "Epoch 1/5\n",
            "WARNING:tensorflow:From c:\\Users\\diogo\\AppData\\Local\\Programs\\Python\\Python310\\lib\\site-packages\\tf_keras\\src\\utils\\tf_utils.py:492: The name tf.ragged.RaggedTensorValue is deprecated. Please use tf.compat.v1.ragged.RaggedTensorValue instead.\n",
            "\n",
            "239/239 [==============================] - 602s 2s/step - loss: 0.6677 - accuracy: 0.7328 - val_loss: 0.5146 - val_accuracy: 0.7994\n",
            "Epoch 2/5\n",
            "239/239 [==============================] - 585s 2s/step - loss: 0.4588 - accuracy: 0.8255 - val_loss: 0.4590 - val_accuracy: 0.8214\n",
            "Epoch 3/5\n",
            "239/239 [==============================] - 583s 2s/step - loss: 0.3501 - accuracy: 0.8725 - val_loss: 0.4422 - val_accuracy: 0.8250\n",
            "Epoch 4/5\n",
            "239/239 [==============================] - 594s 2s/step - loss: 0.2670 - accuracy: 0.9049 - val_loss: 0.5540 - val_accuracy: 0.7931\n",
            "Epoch 5/5\n",
            "239/239 [==============================] - 608s 3s/step - loss: 0.1994 - accuracy: 0.9276 - val_loss: 0.5077 - val_accuracy: 0.8214\n"
          ]
        }
      ],
      "source": [
        "# Train the model\n",
        "history_rob = distilroberta_model.fit(\n",
        "    [train_input_ids_rob, train_attention_mask_rob], tf.convert_to_tensor(y_train), validation_data=([valid_input_ids_rob, valid_attention_mask_rob], tf.convert_to_tensor(y_val)), batch_size=32, epochs=5, verbose=1)"
      ]
    },
    {
      "cell_type": "code",
      "execution_count": 86,
      "metadata": {},
      "outputs": [
        {
          "name": "stdout",
          "output_type": "stream",
          "text": [
            "60/60 [==============================] - 45s 705ms/step\n",
            "DistilRoBERTa Validation Accuracy: 82.14 %\n"
          ]
        }
      ],
      "source": [
        "# Make predictions\n",
        "predictions_rob = distilroberta_model.predict([valid_input_ids_rob, valid_attention_mask_rob])\n",
        "y_pred_rob = np.argmax(predictions_rob.logits, axis=1)\n",
        "\n",
        "print(\"DistilRoBERTa Validation Accuracy:\", round(accuracy_score(y_val, y_pred_rob) * 100, 2), \"%\")"
      ]
    },
    {
      "cell_type": "code",
      "execution_count": 87,
      "metadata": {},
      "outputs": [
        {
          "name": "stdout",
          "output_type": "stream",
          "text": [
            "              precision    recall  f1-score   support\n",
            "\n",
            "     Bearish       0.64      0.75      0.69       288\n",
            "     Bullish       0.77      0.72      0.74       385\n",
            "     Neutral       0.89      0.87      0.88      1236\n",
            "\n",
            "    accuracy                           0.82      1909\n",
            "   macro avg       0.76      0.78      0.77      1909\n",
            "weighted avg       0.83      0.82      0.82      1909\n",
            "\n"
          ]
        }
      ],
      "source": [
        "# Classification report\n",
        "print(classification_report(y_val, y_pred_rob, target_names=label_map.values()))"
      ]
    },
    {
      "cell_type": "code",
      "execution_count": 88,
      "metadata": {},
      "outputs": [
        {
          "data": {
            "image/png": "[encoded data removed]",
            "text/plain": [
              "<Figure size 640x480 with 2 Axes>"
            ]
          },
          "metadata": {},
          "output_type": "display_data"
        }
      ],
      "source": [
        "# Confusion Matrix\n",
        "cm_rob = confusion_matrix(y_val, y_pred_rob)\n",
        "disp_rob = ConfusionMatrixDisplay(confusion_matrix=cm_rob, display_labels=label_map.values())\n",
        "disp_rob.plot(cmap=plt.cm.Blues)\n",
        "plt.title(\"Confusion Matrix for DistilRoBERTa Model on Validation Set\")\n",
        "plt.show()"
      ]
    }
  ],
  "metadata": {
    "colab": {
      "provenance": []
    },
    "kernelspec": {
      "display_name": "Python 3",
      "name": "python3"
    },
    "language_info": {
      "codemirror_mode": {
        "name": "ipython",
        "version": 3
      },
      "file_extension": ".py",
      "mimetype": "text/x-python",
      "name": "python",
      "nbconvert_exporter": "python",
      "pygments_lexer": "ipython3",
      "version": "3.10.11"
    }
  },
  "nbformat": 4,
  "nbformat_minor": 0
}
